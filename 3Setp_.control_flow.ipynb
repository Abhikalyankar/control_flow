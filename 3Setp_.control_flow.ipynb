{
 "cells": [
  {
   "cell_type": "markdown",
   "id": "88425c25-5dbe-450a-96d5-056d93fbb592",
   "metadata": {},
   "source": [
    "# Control Flow"
   ]
  },
  {
   "cell_type": "markdown",
   "id": "39bbd4a2-2f54-4568-bb19-9ea0140df769",
   "metadata": {},
   "source": [
    "## Basic If-Else Statements:"
   ]
  },
  {
   "cell_type": "markdown",
   "id": "7b6d9103-013f-4570-827c-5e831c6d83d7",
   "metadata": {},
   "source": [
    "### Write a Python program to check if a given number is positive or negative."
   ]
  },
  {
   "cell_type": "code",
   "execution_count": 4,
   "id": "13f77dde-3e33-4440-b995-711d7bd421d9",
   "metadata": {},
   "outputs": [
    {
     "name": "stdin",
     "output_type": "stream",
     "text": [
      "Enter a number: -1\n"
     ]
    },
    {
     "name": "stdout",
     "output_type": "stream",
     "text": [
      "Given number is Negative\n"
     ]
    }
   ],
   "source": [
    "given_num = int(input(\"Enter a number:\"))\n",
    "\n",
    "if given_num < 0:\n",
    "    print(\"Given number is Negative\")\n",
    "else:\n",
    "    print(\"Given number is Positive\")"
   ]
  },
  {
   "cell_type": "code",
   "execution_count": null,
   "id": "27a20bdc-f07e-4d2a-8062-00eb18eb71cd",
   "metadata": {},
   "outputs": [],
   "source": []
  },
  {
   "cell_type": "markdown",
   "id": "b669b519-97d2-4b89-9e3f-65e8af6a3353",
   "metadata": {},
   "source": [
    "### Create a program that determines if a person is eligible to vote based on their age."
   ]
  },
  {
   "cell_type": "code",
   "execution_count": 6,
   "id": "a28ba1f4-4773-4c88-8bda-d08dbc09b80f",
   "metadata": {},
   "outputs": [
    {
     "name": "stdin",
     "output_type": "stream",
     "text": [
      "Enter age: 17\n"
     ]
    },
    {
     "name": "stdout",
     "output_type": "stream",
     "text": [
      "The person is not eligible for voting\n"
     ]
    }
   ],
   "source": [
    "Age = int(input(\"Enter age:\"))\n",
    "if Age >= 18:\n",
    "    print(\"The person is eligible for voting\")\n",
    "else:\n",
    "    print(\"The person is not eligible for voting\")"
   ]
  },
  {
   "cell_type": "code",
   "execution_count": null,
   "id": "4becfa98-8e1d-4879-b34e-5f2162419db9",
   "metadata": {},
   "outputs": [],
   "source": []
  },
  {
   "cell_type": "markdown",
   "id": "24efacf6-46a9-4495-afc3-43cbb949b5c4",
   "metadata": {},
   "source": [
    "### Develop a program to find the maximum of two numbers using if-else statements."
   ]
  },
  {
   "cell_type": "code",
   "execution_count": 2,
   "id": "f6ffa3a7-50b9-48aa-9946-439bd9ea4eec",
   "metadata": {},
   "outputs": [
    {
     "name": "stdin",
     "output_type": "stream",
     "text": [
      "Enter First number: 15\n",
      "Enter Second number: 12\n"
     ]
    },
    {
     "name": "stdout",
     "output_type": "stream",
     "text": [
      "15 is greater than 12\n"
     ]
    }
   ],
   "source": [
    "num1 = int(input(\"Enter First number:\"))\n",
    "num2 = int(input(\"Enter Second number:\"))\n",
    "\n",
    "if num1 > num2:\n",
    "    print(f\"{num1} is greater than {num2}\")\n",
    "else:\n",
    "    print(f\"{num2} is greater than {num1}\")"
   ]
  },
  {
   "cell_type": "code",
   "execution_count": null,
   "id": "218d0a49-9c7d-42d6-9390-7ca5df27af86",
   "metadata": {},
   "outputs": [],
   "source": []
  },
  {
   "cell_type": "markdown",
   "id": "2ea4fc1e-3725-43d5-9610-0c24b081de91",
   "metadata": {},
   "source": [
    "### Write a Python script to classify a given year as a leap year or not."
   ]
  },
  {
   "cell_type": "code",
   "execution_count": 7,
   "id": "5742e7fa-c253-4061-9417-c7bb0c90565c",
   "metadata": {},
   "outputs": [
    {
     "name": "stdin",
     "output_type": "stream",
     "text": [
      "Enter a year: 1986\n"
     ]
    },
    {
     "name": "stdout",
     "output_type": "stream",
     "text": [
      "The given year is not leap\n"
     ]
    }
   ],
   "source": [
    "year = int(input(\"Enter a year:\"))\n",
    "\n",
    "if year % 4 == 0:\n",
    "    print(\"The given year is leap\")\n",
    "else:\n",
    "    print(\"The given year is not leap\")"
   ]
  },
  {
   "cell_type": "code",
   "execution_count": null,
   "id": "98bcf330-59a4-461e-b927-fb7bffa7b9c2",
   "metadata": {},
   "outputs": [],
   "source": []
  },
  {
   "cell_type": "markdown",
   "id": "805d9517-e8be-4c42-90cc-aa4338833e25",
   "metadata": {},
   "source": [
    "### Create a program that checks whether a character is a vowel or a consonant."
   ]
  },
  {
   "cell_type": "code",
   "execution_count": 10,
   "id": "2cf0c433-2966-474c-a96f-004555c162f2",
   "metadata": {},
   "outputs": [
    {
     "name": "stdin",
     "output_type": "stream",
     "text": [
      "Enter a character: b\n"
     ]
    },
    {
     "name": "stdout",
     "output_type": "stream",
     "text": [
      "The given character is consonant\n"
     ]
    }
   ],
   "source": [
    "character = input(\"Enter a character:\")\n",
    "vowels = \"aeiou\"\n",
    "if character in vowels:\n",
    "    print(\"The given character is vowels\")\n",
    "else:\n",
    "    print(\"The given character is consonant\")"
   ]
  },
  {
   "cell_type": "code",
   "execution_count": null,
   "id": "6684bc68-a9d0-48ba-a2c6-67bcedb223f6",
   "metadata": {},
   "outputs": [],
   "source": []
  },
  {
   "cell_type": "markdown",
   "id": "b0988e08-9b0e-4376-af8b-0a8e29c905c0",
   "metadata": {},
   "source": [
    "### Implement a program to determine whether a given number is even or odd."
   ]
  },
  {
   "cell_type": "code",
   "execution_count": 12,
   "id": "f1fe1ed7-c746-43b2-a290-e3aeb23a2cfa",
   "metadata": {},
   "outputs": [
    {
     "name": "stdin",
     "output_type": "stream",
     "text": [
      "Enter a number: 3\n"
     ]
    },
    {
     "name": "stdout",
     "output_type": "stream",
     "text": [
      "Given number is Odd\n"
     ]
    }
   ],
   "source": [
    "num = int(input(\"Enter a number:\"))\n",
    "\n",
    "if num % 2 == 0:\n",
    "    print(\"Given number is Even\")\n",
    "else:\n",
    "    print(\"Given number is Odd\")"
   ]
  },
  {
   "cell_type": "code",
   "execution_count": null,
   "id": "d9ec88bc-1bd5-40f7-8e71-357c2a34cacd",
   "metadata": {},
   "outputs": [],
   "source": []
  },
  {
   "cell_type": "markdown",
   "id": "093973a2-3d9c-48c3-9176-90ddb75f80ed",
   "metadata": {},
   "source": [
    "### Write a Python function to calculate the absolute value of a number without using the `abs()` function."
   ]
  },
  {
   "cell_type": "code",
   "execution_count": 17,
   "id": "56c791f3-786a-4b0e-a1cb-a6c045046d8c",
   "metadata": {},
   "outputs": [
    {
     "name": "stdout",
     "output_type": "stream",
     "text": [
      "-5 is 5\n",
      "3 is 3\n"
     ]
    }
   ],
   "source": [
    "def absolute_val(number):\n",
    "    if number < 0:\n",
    "        return -number\n",
    "    else:\n",
    "        return number\n",
    "num = -5\n",
    "print(f\"{num} is {absolute_val(num)}\")\n",
    "\n",
    "num = 3\n",
    "print(f\"{num} is {absolute_val(num)}\")\n",
    "        "
   ]
  },
  {
   "cell_type": "code",
   "execution_count": null,
   "id": "ad640896-6b5d-4907-8ede-64a690b0c2c0",
   "metadata": {},
   "outputs": [],
   "source": []
  },
  {
   "cell_type": "markdown",
   "id": "ec3c06d6-0371-4de5-ad2c-26a42a453914",
   "metadata": {},
   "source": [
    "### Develop a program that determines the largest of three given numbers using if-else statements."
   ]
  },
  {
   "cell_type": "code",
   "execution_count": 28,
   "id": "4d9be2b5-5a35-4c15-9231-27eb088349c2",
   "metadata": {},
   "outputs": [
    {
     "name": "stdin",
     "output_type": "stream",
     "text": [
      "Enter num1 13\n",
      "Enter num2 15\n",
      "Enter num3 17\n"
     ]
    },
    {
     "name": "stdout",
     "output_type": "stream",
     "text": [
      "largest number is : 17\n"
     ]
    }
   ],
   "source": [
    "def number(num1,num2,num3):\n",
    "    if num1 > num2 & num1 > num3:\n",
    "        largest = num1\n",
    "    elif num2 > num1 & num2 > num3:\n",
    "        largest = num2\n",
    "    else:\n",
    "        return num3\n",
    "        \n",
    "num1 = int(input(\"Enter num1\"))\n",
    "num2 = int(input(\"Enter num2\"))\n",
    "num3 = int(input(\"Enter num3\"))\n",
    "\n",
    "largest = number(num1,num2,num3)\n",
    "\n",
    "print(f\"largest number is : {largest}\")\n",
    "        "
   ]
  },
  {
   "cell_type": "code",
   "execution_count": null,
   "id": "b4d096ae-e08c-4f71-90d1-4d7575337885",
   "metadata": {},
   "outputs": [],
   "source": []
  },
  {
   "cell_type": "markdown",
   "id": "0c4c24cb-d94c-41fb-838b-7707a20ebb81",
   "metadata": {},
   "source": [
    "### Create a program that checks if a given string is a palindrome."
   ]
  },
  {
   "cell_type": "code",
   "execution_count": 30,
   "id": "e295bedb-38c6-416b-9aa2-134d301317c7",
   "metadata": {},
   "outputs": [
    {
     "name": "stdin",
     "output_type": "stream",
     "text": [
      "Enter a string: heh\n"
     ]
    },
    {
     "name": "stdout",
     "output_type": "stream",
     "text": [
      "Given string is palindrome\n"
     ]
    }
   ],
   "source": [
    "string = input(\"Enter a string:\")\n",
    "pal = string[::-1]\n",
    "\n",
    "if string == pal:\n",
    "    print(\"Given string is palindrome\")\n",
    "else:\n",
    "    print(\"Given string is not palindrome\")"
   ]
  },
  {
   "cell_type": "code",
   "execution_count": null,
   "id": "295b2725-8846-4619-b3bd-3d7c1ced3833",
   "metadata": {},
   "outputs": [],
   "source": []
  },
  {
   "cell_type": "markdown",
   "id": "c5177708-e0b5-4877-a3e3-64e78cb650f1",
   "metadata": {},
   "source": [
    "### Write a Python program to calculate the grade based on a student's score."
   ]
  },
  {
   "cell_type": "code",
   "execution_count": 32,
   "id": "2a7f056c-3f3b-4ff3-b720-5de59a7193ef",
   "metadata": {},
   "outputs": [
    {
     "name": "stdin",
     "output_type": "stream",
     "text": [
      "Enter Student Score: 95\n"
     ]
    },
    {
     "name": "stdout",
     "output_type": "stream",
     "text": [
      "Grade 'A'\n"
     ]
    }
   ],
   "source": [
    "students_score = int(input(\"Enter Student Score:\"))\n",
    "if students_score >= 90:\n",
    "    print(\"Grade 'A'\")\n",
    "elif students_score > 80 and students_score < 90:\n",
    "    print(\"Grade 'B'\")\n",
    "elif students_score > 70 and students_score < 80:\n",
    "    print(\"Grade 'C'\")\n",
    "else:\n",
    "    print(\"Grade 'D'\")"
   ]
  },
  {
   "cell_type": "code",
   "execution_count": null,
   "id": "10a81262-c7ae-47d1-b8ef-5862798f61d8",
   "metadata": {},
   "outputs": [],
   "source": []
  },
  {
   "cell_type": "markdown",
   "id": "571e9be3-7190-443a-9774-7d991cb7d350",
   "metadata": {},
   "source": [
    "## Nested If-Else Statements:"
   ]
  },
  {
   "cell_type": "markdown",
   "id": "e7afccc5-d2b8-419a-a935-c75e3ea0c556",
   "metadata": {},
   "source": [
    "### Write a program to find the largest among three numbers using nested if-else statements."
   ]
  },
  {
   "cell_type": "code",
   "execution_count": 33,
   "id": "29061ef4-dc59-4e5d-8227-636555c8f64c",
   "metadata": {},
   "outputs": [
    {
     "name": "stdout",
     "output_type": "stream",
     "text": [
      "The largest of 10, 25, and 20 is 25\n"
     ]
    }
   ],
   "source": [
    "def find_largest(a, b, c):\n",
    "    if a >= b:\n",
    "        if a >= c:\n",
    "            largest = a\n",
    "        else:\n",
    "            largest = c\n",
    "    else:\n",
    "        if b >= c:\n",
    "            largest = b\n",
    "        else:\n",
    "            largest = c\n",
    "    return largest\n",
    "\n",
    "# Example usage\n",
    "num1 = 10\n",
    "num2 = 25\n",
    "num3 = 20\n",
    "\n",
    "largest_number = find_largest(num1, num2, num3)\n",
    "print(f\"The largest of {num1}, {num2}, and {num3} is {largest_number}\")\n"
   ]
  },
  {
   "cell_type": "code",
   "execution_count": null,
   "id": "0881092b-29a4-41f0-b1cb-07cb40ebd8fb",
   "metadata": {},
   "outputs": [],
   "source": []
  },
  {
   "cell_type": "markdown",
   "id": "2b886446-5586-4f36-b9d4-a4cae38e9cb1",
   "metadata": {},
   "source": [
    "### Implement a program to determine if a triangle is equilateral, isosceles, or scalene."
   ]
  },
  {
   "cell_type": "code",
   "execution_count": 9,
   "id": "2a35b69b-6e21-495b-ac23-e6884031fd19",
   "metadata": {},
   "outputs": [
    {
     "name": "stdout",
     "output_type": "stream",
     "text": [
      "A triangle with sides 5, 5, and 5 is Equilateral.\n",
      "A triangle with sides 5, 5, and 8 is Isosceles.\n",
      "A triangle with sides 5, 6, and 7 is Scalene.\n"
     ]
    }
   ],
   "source": [
    "def classify_triangle(a, b, c):\n",
    "    if a == b:\n",
    "        if b == c:\n",
    "            return \"Equilateral\"\n",
    "        else:\n",
    "            return \"Isosceles\"\n",
    "    else:\n",
    "        if b == c:\n",
    "            return \"Isosceles\"\n",
    "        elif a == c:\n",
    "            return \"Isosceles\"\n",
    "        else:\n",
    "            return \"Scalene\"\n",
    "\n",
    "# Example usage\n",
    "side1 = 5\n",
    "side2 = 5\n",
    "side3 = 5\n",
    "\n",
    "triangle_type = classify_triangle(side1, side2, side3)\n",
    "print(f\"A triangle with sides {side1}, {side2}, and {side3} is {triangle_type}.\")\n",
    "\n",
    "side1 = 5\n",
    "side2 = 5\n",
    "side3 = 8\n",
    "\n",
    "triangle_type = classify_triangle(side1, side2, side3)\n",
    "print(f\"A triangle with sides {side1}, {side2}, and {side3} is {triangle_type}.\")\n",
    "\n",
    "side1 = 5\n",
    "side2 = 6\n",
    "side3 = 7\n",
    "\n",
    "triangle_type = classify_triangle(side1, side2, side3)\n",
    "print(f\"A triangle with sides {side1}, {side2}, and {side3} is {triangle_type}.\")\n"
   ]
  },
  {
   "cell_type": "code",
   "execution_count": null,
   "id": "1abc1c4e-74b6-43ef-b770-9ea678cab432",
   "metadata": {},
   "outputs": [],
   "source": []
  },
  {
   "cell_type": "markdown",
   "id": "00a8f7cd-81aa-46a3-a47c-246d35039be3",
   "metadata": {},
   "source": [
    "### Develop a program that checks if a year is a leap year and also if it is a century year."
   ]
  },
  {
   "cell_type": "code",
   "execution_count": 12,
   "id": "cad34120-4253-44de-8a7e-48482b66e316",
   "metadata": {},
   "outputs": [
    {
     "name": "stdout",
     "output_type": "stream",
     "text": [
      "2000 is a leap year and a century year.\n",
      "1900 is not a leap year but is a century year.\n",
      "2024 is a leap year but not a century year.\n",
      "2100 is not a leap year but is a century year.\n"
     ]
    }
   ],
   "source": [
    "def is_leap_year(year):\n",
    "    if year % 4 == 0:\n",
    "        if year % 100 == 0:\n",
    "            if year % 400 == 0:\n",
    "                return True  # Divisible by 400\n",
    "            else:\n",
    "                return False  # Divisible by 100 but not by 400\n",
    "        else:\n",
    "            return True  # Divisible by 4 but not by 100\n",
    "    else:\n",
    "        return False  # Not divisible by 4\n",
    "\n",
    "def is_century_year(year):\n",
    "    if year % 100 == 0:\n",
    "        return True\n",
    "    else:\n",
    "        return False\n",
    "\n",
    "def check_year(year):\n",
    "    leap_year = is_leap_year(year)\n",
    "    century_year = is_century_year(year)\n",
    "    \n",
    "    if leap_year and century_year:\n",
    "        return f\"{year} is a leap year and a century year.\"\n",
    "    elif leap_year:\n",
    "        return f\"{year} is a leap year but not a century year.\"\n",
    "    elif century_year:\n",
    "        return f\"{year} is not a leap year but is a century year.\"\n",
    "    else:\n",
    "        return f\"{year} is not a leap year and not a century year.\"\n",
    "\n",
    "# Example usage\n",
    "year = 2000\n",
    "print(check_year(year))\n",
    "\n",
    "year = 1900\n",
    "print(check_year(year))\n",
    "\n",
    "year = 2024\n",
    "print(check_year(year))\n",
    "\n",
    "year = 2100\n",
    "print(check_year(year))\n"
   ]
  },
  {
   "cell_type": "code",
   "execution_count": null,
   "id": "5e7338fc-7b18-495f-af2f-e56ca46b9d8f",
   "metadata": {},
   "outputs": [],
   "source": []
  },
  {
   "cell_type": "markdown",
   "id": "f5f95c27-bc4d-4c89-a75a-f50ea4814870",
   "metadata": {},
   "source": [
    "### Write a Python script to determine if a number is positive, negative, or zero."
   ]
  },
  {
   "cell_type": "code",
   "execution_count": 22,
   "id": "b8fdfdf2-3862-4565-9a71-aa9ce8a6d443",
   "metadata": {},
   "outputs": [
    {
     "name": "stdin",
     "output_type": "stream",
     "text": [
      "Enter a number: 0\n"
     ]
    },
    {
     "name": "stdout",
     "output_type": "stream",
     "text": [
      "0 is Zero \n"
     ]
    }
   ],
   "source": [
    "def number(num):\n",
    "    if num >= 0:\n",
    "        if num == 0:\n",
    "            return \"Zero\"\n",
    "        else:\n",
    "            return \"Positive\"\n",
    "    else:\n",
    "        return \"Negative\"\n",
    "    \n",
    "num = int(input(\"Enter a number:\"))\n",
    "\n",
    "print(f\"{num} is {number(num)} \")"
   ]
  },
  {
   "cell_type": "code",
   "execution_count": null,
   "id": "1565ef1d-0713-488c-80c7-2d0675cf5066",
   "metadata": {},
   "outputs": [],
   "source": []
  },
  {
   "cell_type": "markdown",
   "id": "8eba0731-4c07-4553-aa48-5fb98052edb2",
   "metadata": {},
   "source": [
    "### Create a program to check if a person is a teenager (between 13 and 19 years old)."
   ]
  },
  {
   "cell_type": "code",
   "execution_count": 24,
   "id": "7c181114-565e-47cf-a675-dfc5d8b0d3ae",
   "metadata": {},
   "outputs": [
    {
     "name": "stdin",
     "output_type": "stream",
     "text": [
      "Enter Age: 15\n"
     ]
    },
    {
     "name": "stdout",
     "output_type": "stream",
     "text": [
      "The Person is a Teenager\n"
     ]
    }
   ],
   "source": [
    "Age = int(input(\"Enter Age:\"))\n",
    "\n",
    "if Age > 13 and Age < 19:\n",
    "    print(\"The Person is a Teenager\")\n",
    "else:\n",
    "    print(\"The Person is not a Teenager\")"
   ]
  },
  {
   "cell_type": "code",
   "execution_count": null,
   "id": "4f99f5d5-cbf5-4fa0-8f36-f6202960ae65",
   "metadata": {},
   "outputs": [],
   "source": []
  },
  {
   "cell_type": "markdown",
   "id": "418ed0e7-0ba7-40ae-a053-bca7538ce58a",
   "metadata": {},
   "source": [
    "### Develop a program that determines the type of angle based on its measure (acute, obtuse, or right)."
   ]
  },
  {
   "cell_type": "code",
   "execution_count": 2,
   "id": "68705bfb-bfec-436c-b6a7-5cd7b25a9b21",
   "metadata": {},
   "outputs": [
    {
     "name": "stdin",
     "output_type": "stream",
     "text": [
      "Enter a number: 98\n"
     ]
    },
    {
     "name": "stdout",
     "output_type": "stream",
     "text": [
      "The type of angle is : Obtuse angle\n"
     ]
    }
   ],
   "source": [
    "def angle_measure(angle):\n",
    "    if angle > 90:\n",
    "        return \"Obtuse angle\"\n",
    "    elif angle < 90:\n",
    "        return \"Acute angle\"\n",
    "    elif angle == 90:\n",
    "        return \"Right angle\"\n",
    "    \n",
    "angle = int(input(\"Enter a number:\"))\n",
    "\n",
    "Angle_type = angle_measure(angle)\n",
    "\n",
    "print(f\"The type of angle is : {Angle_type}\")"
   ]
  },
  {
   "cell_type": "code",
   "execution_count": null,
   "id": "07fd641a-7593-4cc9-bfa4-f95ff2a91bc8",
   "metadata": {},
   "outputs": [],
   "source": []
  },
  {
   "cell_type": "markdown",
   "id": "c55f398b-0fa3-44d2-ac5f-81f252661423",
   "metadata": {},
   "source": [
    "### Write a Python program to calculate the roots of a quadratic equation."
   ]
  },
  {
   "cell_type": "code",
   "execution_count": 1,
   "id": "68ed84c1-3a71-4610-bbdf-9dce66f52b76",
   "metadata": {},
   "outputs": [
    {
     "name": "stdin",
     "output_type": "stream",
     "text": [
      "Enter coefficient a:  12\n",
      "Enter coefficient b:  12\n",
      "Enter coefficient c:  12\n"
     ]
    },
    {
     "name": "stdout",
     "output_type": "stream",
     "text": [
      "The roots of the quadratic equation are: (-0.5+0.8660254037844387j) and (-0.5-0.8660254037844387j)\n"
     ]
    }
   ],
   "source": [
    "import cmath\n",
    "\n",
    "def calculate_roots(a, b, c):\n",
    "    # Calculate the discriminant\n",
    "    discriminant = b**2 - 4*a*c\n",
    "    \n",
    "    # Calculate the two roots using the quadratic formula\n",
    "    root1 = (-b + cmath.sqrt(discriminant)) / (2 * a)\n",
    "    root2 = (-b - cmath.sqrt(discriminant)) / (2 * a)\n",
    "    \n",
    "    return root1, root2\n",
    "\n",
    "def main():\n",
    "    try:\n",
    "        # Input coefficients from the user\n",
    "        a = float(input(\"Enter coefficient a: \"))\n",
    "        b = float(input(\"Enter coefficient b: \"))\n",
    "        c = float(input(\"Enter coefficient c: \"))\n",
    "        \n",
    "        if a == 0:\n",
    "            print(\"Coefficient 'a' cannot be 0 in a quadratic equation.\")\n",
    "            return\n",
    "        \n",
    "        # Calculate roots\n",
    "        root1, root2 = calculate_roots(a, b, c)\n",
    "        \n",
    "        # Print the roots\n",
    "        print(f\"The roots of the quadratic equation are: {root1} and {root2}\")\n",
    "    except ValueError:\n",
    "        print(\"Please enter valid numbers.\")\n",
    "\n",
    "if __name__ == \"__main__\":\n",
    "    main()\n"
   ]
  },
  {
   "cell_type": "code",
   "execution_count": null,
   "id": "3211b7c0-f41e-486c-a62a-9b647488bd6b",
   "metadata": {},
   "outputs": [],
   "source": []
  },
  {
   "cell_type": "markdown",
   "id": "7203a487-cd83-48c4-a8d6-f63a964daf0b",
   "metadata": {},
   "source": [
    "### Implement a program to determine the day of the week based on a user-provided number (1 for Monday, 2 for Tuesday, etc.)."
   ]
  },
  {
   "cell_type": "code",
   "execution_count": 3,
   "id": "d6b6c1c0-fbea-4504-aaf5-8c60e56f81ef",
   "metadata": {},
   "outputs": [
    {
     "name": "stdin",
     "output_type": "stream",
     "text": [
      "Enter a Number: 2\n"
     ]
    },
    {
     "name": "stdout",
     "output_type": "stream",
     "text": [
      "Day is Tuesday\n"
     ]
    }
   ],
   "source": [
    "def get_Day(day_number):\n",
    "    if day_number == 1:\n",
    "        return \"Monday\"\n",
    "    elif day_number == 2:\n",
    "        return \"Tuesday\"\n",
    "    elif day_number == 3:\n",
    "        return \"Wednesday\"\n",
    "    elif day_number == 4:\n",
    "        return \"Thursday\"\n",
    "    elif day_number == 5:\n",
    "        return \"Friday\"\n",
    "    else:\n",
    "        return \"Saturday\"\n",
    "    \n",
    "day_num = int(input(\"Enter a Number:\"))\n",
    "\n",
    "Day = get_Day(day_num)\n",
    "\n",
    "print(f\"Day is {Day}\")"
   ]
  },
  {
   "cell_type": "code",
   "execution_count": null,
   "id": "fd0b8cf6-0ea2-404a-b39d-8cb97afcd507",
   "metadata": {},
   "outputs": [],
   "source": []
  },
  {
   "cell_type": "markdown",
   "id": "41db2382-0d25-4905-b714-0731861b66a8",
   "metadata": {},
   "source": [
    "### Create a program that determines if a year is a leap year and also if it is evenly divisible by 400."
   ]
  },
  {
   "cell_type": "code",
   "execution_count": 4,
   "id": "feb3decf-e20a-44f7-aea0-4f31e74da5bb",
   "metadata": {},
   "outputs": [
    {
     "name": "stdin",
     "output_type": "stream",
     "text": [
      "Enter a year:  202\n"
     ]
    },
    {
     "name": "stdout",
     "output_type": "stream",
     "text": [
      "The year 202 is not a leap year.\n",
      "The year 202 is not evenly divisible by 400.\n"
     ]
    }
   ],
   "source": [
    "def is_leap_year(year):\n",
    "    if year % 4 == 0:\n",
    "        if year % 100 == 0:\n",
    "            if year % 400 == 0:\n",
    "                return True, True  # Leap year and divisible by 400\n",
    "            else:\n",
    "                return False, False  # Not a leap year and not divisible by 400\n",
    "        else:\n",
    "            return True, False  # Leap year but not divisible by 400\n",
    "    else:\n",
    "        return False, False  # Not a leap year and not divisible by 400\n",
    "\n",
    "def main():\n",
    "    try:\n",
    "        year = int(input(\"Enter a year: \"))\n",
    "        leap_year, divisible_by_400 = is_leap_year(year)\n",
    "        \n",
    "        if leap_year:\n",
    "            print(f\"The year {year} is a leap year.\")\n",
    "        else:\n",
    "            print(f\"The year {year} is not a leap year.\")\n",
    "        \n",
    "        if divisible_by_400:\n",
    "            print(f\"The year {year} is evenly divisible by 400.\")\n",
    "        else:\n",
    "            print(f\"The year {year} is not evenly divisible by 400.\")\n",
    "    except ValueError:\n",
    "        print(\"Please enter a valid integer.\")\n",
    "\n",
    "if __name__ == \"__main__\":\n",
    "    main()\n"
   ]
  },
  {
   "cell_type": "code",
   "execution_count": null,
   "id": "477b2d5a-4d88-4c42-9c61-5b7bdaca9051",
   "metadata": {},
   "outputs": [],
   "source": []
  },
  {
   "cell_type": "markdown",
   "id": "bc184ae8-5cda-4b18-9b1b-cbd4d890da86",
   "metadata": {},
   "source": [
    "### Develop a program that checks if a given number is prime or not using nested if-else statements."
   ]
  },
  {
   "cell_type": "code",
   "execution_count": 5,
   "id": "61d10285-a403-420b-ad0e-a26e3b3f4a81",
   "metadata": {},
   "outputs": [
    {
     "name": "stdin",
     "output_type": "stream",
     "text": [
      "Enter a number:  \n"
     ]
    },
    {
     "name": "stdout",
     "output_type": "stream",
     "text": [
      "Please enter a valid integer.\n"
     ]
    }
   ],
   "source": [
    "def is_prime(number):\n",
    "    if number <= 1:\n",
    "        return False\n",
    "    else:\n",
    "        for i in range(2, int(number**0.5) + 1):\n",
    "            if number % i == 0:\n",
    "                return False\n",
    "        return True\n",
    "\n",
    "def main():\n",
    "    try:\n",
    "        number = int(input(\"Enter a number: \"))\n",
    "        \n",
    "        if number <= 1:\n",
    "            print(f\"The number {number} is not a prime number.\")\n",
    "        else:\n",
    "            is_prime_number = is_prime(number)\n",
    "            \n",
    "            if is_prime_number:\n",
    "                print(f\"The number {number} is a prime number.\")\n",
    "            else:\n",
    "                print(f\"The number {number} is not a prime number.\")\n",
    "    except ValueError:\n",
    "        print(\"Please enter a valid integer.\")\n",
    "\n",
    "if __name__ == \"__main__\":\n",
    "    main()\n"
   ]
  },
  {
   "cell_type": "code",
   "execution_count": null,
   "id": "1a5159af-d56e-4a7e-a65e-2d3b4df90569",
   "metadata": {},
   "outputs": [],
   "source": []
  },
  {
   "cell_type": "markdown",
   "id": "9956ab16-14b2-48c8-aff7-d079a424b2c2",
   "metadata": {},
   "source": [
    "## Elif Statements:"
   ]
  },
  {
   "cell_type": "markdown",
   "id": "d36842a8-0073-4dc3-afd5-c8c6b234d1bb",
   "metadata": {},
   "source": [
    "### Write a Python program to assign grades based on different ranges of scores using elif statements."
   ]
  },
  {
   "cell_type": "code",
   "execution_count": 8,
   "id": "2dc475c9-3aeb-47ed-9d81-5d1cd66e415c",
   "metadata": {},
   "outputs": [
    {
     "name": "stdin",
     "output_type": "stream",
     "text": [
      "Enter Marks: 67\n"
     ]
    },
    {
     "name": "stdout",
     "output_type": "stream",
     "text": [
      " Grade'D' \n"
     ]
    }
   ],
   "source": [
    "def Marks(marks):\n",
    "    if marks > 90:\n",
    "        return \"Grade'A'\"\n",
    "    elif marks < 90 and marks > 80:\n",
    "        return \"Grade 'B'\"\n",
    "    elif marks < 80 and marks > 70:\n",
    "        return \"Grade'C'\"\n",
    "    elif marks < 70 and marks > 60:\n",
    "        return \"Grade'D'\"\n",
    "    else:\n",
    "        return \"Grade'E'\"\n",
    "\n",
    "marks = int(input(\"Enter Marks:\"))\n",
    "\n",
    "Marks = Marks(marks)\n",
    "\n",
    "print(f\" {Marks} \")"
   ]
  },
  {
   "cell_type": "code",
   "execution_count": null,
   "id": "7d1ff3ea-471d-41cb-b96b-5dbb911ab8d0",
   "metadata": {},
   "outputs": [],
   "source": []
  },
  {
   "cell_type": "markdown",
   "id": "b389ca9b-c0f3-4081-8e45-c106c8e7d30e",
   "metadata": {},
   "source": [
    "### Implement a program to determine the type of a triangle based on its angles."
   ]
  },
  {
   "cell_type": "code",
   "execution_count": 9,
   "id": "ec4407dd-6c6e-4463-9eea-964ade22485f",
   "metadata": {},
   "outputs": [
    {
     "name": "stdin",
     "output_type": "stream",
     "text": [
      "Enter Angle: 78\n"
     ]
    },
    {
     "name": "stdout",
     "output_type": "stream",
     "text": [
      "Type of Triangle is Acute Triangle\n"
     ]
    }
   ],
   "source": [
    "def Type_of_triangle(Angle):\n",
    "    if Angle > 90:\n",
    "        return \"Obtuse Triangle\"\n",
    "    elif Angle == 90:\n",
    "        return \"Equilateral Triangle\"\n",
    "    else:\n",
    "        return \"Acute Triangle\"\n",
    "    \n",
    "Angle = int(input(\"Enter Angle:\"))\n",
    "\n",
    "Type = Type_of_triangle(Angle)\n",
    "\n",
    "print(f\"Type of Triangle is {Type}\")"
   ]
  },
  {
   "cell_type": "code",
   "execution_count": null,
   "id": "3ef38366-c064-4fa5-83d0-799c857d0bf2",
   "metadata": {},
   "outputs": [],
   "source": []
  },
  {
   "cell_type": "markdown",
   "id": "c012b71f-4f65-400f-bfa6-f6260cd9c4e6",
   "metadata": {},
   "source": [
    "### Develop a program to categorize a given person's BMI into underweight, normal, overweight, or obese using elif statements."
   ]
  },
  {
   "cell_type": "code",
   "execution_count": 10,
   "id": "61d72ffb-bf27-46b9-8f2b-61dc00c72755",
   "metadata": {},
   "outputs": [
    {
     "name": "stdin",
     "output_type": "stream",
     "text": [
      "Enter Height: 123\n",
      "Enter Weight: 123\n"
     ]
    },
    {
     "name": "stdout",
     "output_type": "stream",
     "text": [
      "You are Uderweight\n"
     ]
    }
   ],
   "source": [
    "def calculate_bmi(height, weight):\n",
    "    return weight / (height ** 2)\n",
    "\n",
    "def cal_bmi(bmi):\n",
    "    if bmi < 18.5:\n",
    "        return \"Uderweight\"\n",
    "    elif 18.5 <= bmi <= 24.9:\n",
    "        return \"Normal Weight\"\n",
    "    elif 25 <= bmi < 29.9:\n",
    "        return \"Overweight\"\n",
    "    elif bmi >= 30:\n",
    "        return \"Obese\"\n",
    "    else:\n",
    "        return \"Invalid\"\n",
    "    \n",
    "height = float(input(\"Enter Height:\"))\n",
    "weight = float(input(\"Enter Weight:\"))\n",
    "\n",
    "bmi = calculate_bmi(height, weight)\n",
    "\n",
    "cal_bmi = cal_bmi(bmi)\n",
    "\n",
    "print(f\"You are {cal_bmi}\")"
   ]
  },
  {
   "cell_type": "code",
   "execution_count": null,
   "id": "61a3a414-b2d8-435e-a6d8-3e48d4faa4e7",
   "metadata": {},
   "outputs": [],
   "source": []
  },
  {
   "cell_type": "markdown",
   "id": "4eceee20-9a4d-4a56-b4f0-248d3e3c9aa6",
   "metadata": {},
   "source": [
    "### Create a program that determines whether a given number is positive, negative, or zero using elif statements."
   ]
  },
  {
   "cell_type": "code",
   "execution_count": 13,
   "id": "f4fc5a39-83a3-4070-a2f3-276649c4ac99",
   "metadata": {},
   "outputs": [
    {
     "name": "stdin",
     "output_type": "stream",
     "text": [
      "Enter a Number: 0\n"
     ]
    },
    {
     "name": "stdout",
     "output_type": "stream",
     "text": [
      "Entered Number is : Zero\n"
     ]
    }
   ],
   "source": [
    "def given_num(num):\n",
    "    if num > 0:\n",
    "        return \"Positive Number\"\n",
    "    elif num < 0:\n",
    "        return \"Negative Number\"\n",
    "    else:\n",
    "        return \"Zero\"\n",
    "    \n",
    "number = int(input(\"Enter a Number:\"))\n",
    "\n",
    "Entered_num = given_num(number)\n",
    "\n",
    "print(f\"Entered Number is : {Entered_num}\")"
   ]
  },
  {
   "cell_type": "code",
   "execution_count": null,
   "id": "606a9f0d-6a1c-4b72-ad15-a6ab016ebce1",
   "metadata": {},
   "outputs": [],
   "source": []
  },
  {
   "cell_type": "markdown",
   "id": "0dc15545-d65f-470e-9e4d-d96703b21142",
   "metadata": {},
   "source": [
    "### Write a Python script to determine the type of a character (uppercase, lowercase, or special) using elif statements."
   ]
  },
  {
   "cell_type": "code",
   "execution_count": 25,
   "id": "636f0945-d952-4b3a-ba80-923daf8c0f91",
   "metadata": {},
   "outputs": [
    {
     "name": "stdin",
     "output_type": "stream",
     "text": [
      "Enter a String: a\n"
     ]
    },
    {
     "name": "stdout",
     "output_type": "stream",
     "text": [
      "Character is Lowercase\n"
     ]
    }
   ],
   "source": [
    "def Char_of_String(String):\n",
    "    if String.isupper():\n",
    "        return \"Uppercase\"\n",
    "    elif String.islower():\n",
    "        return \"Lowercase\"\n",
    "    else:\n",
    "        return \"Special\"\n",
    "    \n",
    "String = input(\"Enter a String:\")\n",
    "\n",
    "Character = Char_of_String(String)\n",
    "\n",
    "print(f\"Character is {Character}\")"
   ]
  },
  {
   "cell_type": "code",
   "execution_count": null,
   "id": "b0015247-061f-4b6d-a842-2f37a24b4346",
   "metadata": {},
   "outputs": [],
   "source": []
  },
  {
   "cell_type": "markdown",
   "id": "cad5d349-68cd-4b85-b2f1-c4a5b641919a",
   "metadata": {},
   "source": [
    "### Implement a program to calculate the discounted price based on different purchase amounts using elif statements."
   ]
  },
  {
   "cell_type": "code",
   "execution_count": 8,
   "id": "9e88cd44-8f6a-4b03-863d-280593aaa964",
   "metadata": {},
   "outputs": [
    {
     "name": "stdin",
     "output_type": "stream",
     "text": [
      "Enter Price :  4567\n"
     ]
    },
    {
     "name": "stdout",
     "output_type": "stream",
     "text": [
      "4567 (4110.3, 10.0)\n"
     ]
    }
   ],
   "source": [
    "def discounted_price(price):\n",
    "    if price > 1000:\n",
    "        discount = 0.10\n",
    "    elif price < 1000:\n",
    "        discount = 0.05\n",
    "    else:\n",
    "        \"No Discount\"\n",
    "        \n",
    "    discounted_price = price * (1 - discount)\n",
    "    return discounted_price, discount * 100\n",
    "        \n",
    "price = int(input(\"Enter Price : \"))\n",
    "\n",
    "discounted_price = discounted_price(price)\n",
    "\n",
    "print(price, discounted_price)"
   ]
  },
  {
   "cell_type": "code",
   "execution_count": null,
   "id": "0e0abcbd-5329-4e92-bafc-d300b4fad679",
   "metadata": {},
   "outputs": [],
   "source": []
  },
  {
   "cell_type": "markdown",
   "id": "cfbb248b-409a-4b3d-8e4f-8307abc3d1f9",
   "metadata": {},
   "source": [
    "### Develop a program to calculate the electricity bill based on different consumption slabs using elif statements."
   ]
  },
  {
   "cell_type": "code",
   "execution_count": 30,
   "id": "267c6b10-e33b-42df-99c8-372ac3723283",
   "metadata": {},
   "outputs": [
    {
     "name": "stdin",
     "output_type": "stream",
     "text": [
      "Enter units :  456\n"
     ]
    },
    {
     "name": "stdout",
     "output_type": "stream",
     "text": [
      "Your Bill amount is 342.0\n"
     ]
    }
   ],
   "source": [
    "def ele_bill(units):\n",
    "    if units < 100:\n",
    "        bill = 0.5 * units\n",
    "    elif units >= 100:\n",
    "        bill = 0.75 * units\n",
    "    else:\n",
    "        bill = units * 1\n",
    "    return bill\n",
    "            \n",
    "    \n",
    "units = int(input(\"Enter units : \"))\n",
    "\n",
    "Bill_amount = ele_bill(units)\n",
    "\n",
    "print(f\"Your Bill amount is {Bill_amount}\")  "
   ]
  },
  {
   "cell_type": "code",
   "execution_count": null,
   "id": "8150852f-e1c9-4d10-a3bd-be5c841b87da",
   "metadata": {},
   "outputs": [],
   "source": []
  },
  {
   "cell_type": "markdown",
   "id": "fee3217c-a346-470b-87b5-52c7197e24f7",
   "metadata": {},
   "source": [
    "### Create a program to determine the type of quadrilateral based on its angles and sides using elif statements."
   ]
  },
  {
   "cell_type": "code",
   "execution_count": 1,
   "id": "14c7580f-003e-4232-9cba-bbd5e46e03e3",
   "metadata": {},
   "outputs": [
    {
     "name": "stdin",
     "output_type": "stream",
     "text": [
      "Enter angle 1:  67\n",
      "Enter angle 2:  67\n",
      "Enter angle 3:  67\n",
      "Enter angle 4:  67\n",
      "Enter side 1:  67\n",
      "Enter side 2:  67\n",
      "Enter side 3:  67\n",
      "Enter side 4:  67\n"
     ]
    },
    {
     "name": "stdout",
     "output_type": "stream",
     "text": [
      "The quadrilateral is a Parallelogram\n"
     ]
    }
   ],
   "source": [
    "def determine_quadrilateral_type(angle1, angle2, angle3, angle4, side1, side2, side3, side4):\n",
    "    if angle1 == angle2 == angle3 == angle4 == 90:\n",
    "        return \"Square\"\n",
    "    elif (angle1 == angle3 == 90 and angle2 == angle4 == 180 - angle1 and side1 == side3 and side2 == side4):\n",
    "        return \"Rectangle\"\n",
    "    elif (angle1 == angle3 and angle2 == angle4 == 90 and side1 == side2 == side3 == side4):\n",
    "        return \"Rhombus\"\n",
    "    elif (angle1 == angle2 and angle3 == angle4 and side1 == side3 and side2 == side4 and angle1 != 90):\n",
    "        return \"Parallelogram\"\n",
    "    elif (angle1 == angle2 == angle3 == angle4 and side1 == side2 == side3 == side4):\n",
    "        return \"Rhombus\"\n",
    "    elif (angle1 == angle2 and angle3 == angle4 and side1 == side3 and side2 == side4 and angle1 != 90):\n",
    "        return \"Kite\"\n",
    "    else:\n",
    "        return \"Quadrilateral\"\n",
    "\n",
    "angle1 = int(input(\"Enter angle 1: \"))\n",
    "angle2 = int(input(\"Enter angle 2: \"))\n",
    "angle3 = int(input(\"Enter angle 3: \"))\n",
    "angle4 = int(input(\"Enter angle 4: \"))\n",
    "side1 = int(input(\"Enter side 1: \"))\n",
    "side2 = int(input(\"Enter side 2: \"))\n",
    "side3 = int(input(\"Enter side 3: \"))\n",
    "side4 = int(input(\"Enter side 4: \"))\n",
    "\n",
    "quadrilateral_type = determine_quadrilateral_type(angle1, angle2, angle3, angle4, side1, side2, side3, side4)\n",
    "print(f\"The quadrilateral is a {quadrilateral_type}\")\n"
   ]
  },
  {
   "cell_type": "code",
   "execution_count": null,
   "id": "425ebaf6-6e1f-4e22-99ba-dcb4fea5e454",
   "metadata": {},
   "outputs": [],
   "source": []
  },
  {
   "cell_type": "markdown",
   "id": "3c8b5053-adec-4558-a7a7-b54b6fbb0a87",
   "metadata": {},
   "source": [
    "### Write a Python script to determine the season based on a user-provided month using elif statements."
   ]
  },
  {
   "cell_type": "code",
   "execution_count": 6,
   "id": "a6c93a03-7d79-408b-accd-eab49f3a837f",
   "metadata": {},
   "outputs": [
    {
     "name": "stdin",
     "output_type": "stream",
     "text": [
      "Enter a Number: 3\n"
     ]
    },
    {
     "name": "stdout",
     "output_type": "stream",
     "text": [
      "The Season is : Summer\n"
     ]
    }
   ],
   "source": [
    "def user_given(month):\n",
    "    if month in (12,1,2):\n",
    "        return \"Winter\"\n",
    "    elif month in (3,4,5):\n",
    "        return \"Summer\"\n",
    "    elif month in (6,7,8):\n",
    "        return \"Monsoon\"\n",
    "    elif month in (9,10,11):\n",
    "        return \"Autumn\"\n",
    "    else:\n",
    "        return \"Invalid\"\n",
    "    \n",
    "month = int(input(\"Enter a Number:\"))\n",
    "\n",
    "Season = user_given(month)\n",
    "\n",
    "print(f\"The Season is : {Season}\")"
   ]
  },
  {
   "cell_type": "code",
   "execution_count": null,
   "id": "eca983cf-083f-451e-b009-e7d31382d619",
   "metadata": {},
   "outputs": [],
   "source": []
  },
  {
   "cell_type": "markdown",
   "id": "381737f9-28ca-4c0e-b6bd-d8c0c427f057",
   "metadata": {},
   "source": [
    "### Implement a program to determine the type of a year (leap or common) and month (30 or 31 days) using elif statements."
   ]
  },
  {
   "cell_type": "code",
   "execution_count": null,
   "id": "ca831a76-a9e3-4010-97fd-f41c4e7e306b",
   "metadata": {},
   "outputs": [],
   "source": [
    "def is_leap(year):\n",
    "    if (year % 400 == 0) or (year % 4 == 0 and year % 100 != 0):\n",
    "        return True\n",
    "    else:\n",
    "        return False\n",
    "    \n",
    "def Days_in_month(Month):\n",
    "    if Month in (1,3,5,7,10,12):\n",
    "        return 31\n",
    "    elif Month in (4,6,8,9):\n",
    "        return 30\n",
    "    elif Month == 2:\n",
    "        return 29\n",
    "    else:\n",
    "        return \"Invalid\"\n",
    "    \n",
    "year = int(input(\"Enter Year:\"))\n",
    "\n",
    "Month = int(input(\"Enter Month:\"))\n",
    "\n",
    "leap = is_leap(year)\n",
    "\n",
    "Days = Days_in_month(Month)\n",
    "\n",
    "print(f\"The {year} is {leap} \")\n",
    "\n",
    "print(f\"The {Month} having {Days} Days\")"
   ]
  },
  {
   "cell_type": "code",
   "execution_count": null,
   "id": "04d0c667-557a-44bb-9074-d49b577eff1d",
   "metadata": {},
   "outputs": [],
   "source": []
  },
  {
   "cell_type": "markdown",
   "id": "eaaa0ca3-ff12-4b43-9080-aaa96b121d57",
   "metadata": {},
   "source": [
    "## Basic Level:"
   ]
  },
  {
   "cell_type": "markdown",
   "id": "91f9151f-d160-4b10-aa12-d2f4e1d03326",
   "metadata": {},
   "source": [
    "### Write a Python program that checks if a given number is positive, negative, or zero."
   ]
  },
  {
   "cell_type": "code",
   "execution_count": 3,
   "id": "c5a45585-d6da-4e04-8a09-dcc7beba2100",
   "metadata": {},
   "outputs": [
    {
     "name": "stdin",
     "output_type": "stream",
     "text": [
      "Enter a number :  0\n"
     ]
    },
    {
     "name": "stdout",
     "output_type": "stream",
     "text": [
      "The given number is Zero\n"
     ]
    }
   ],
   "source": [
    "def given_num(num):\n",
    "    if num > 0:\n",
    "        return \"Positive\"\n",
    "    elif num < 0:\n",
    "        return \"Negative\"\n",
    "    else:\n",
    "        return \"Zero\"\n",
    "        \n",
    "number = int(input(\"Enter a number : \"))\n",
    "\n",
    "print(f\"The given number is {given_num(number)}\")"
   ]
  },
  {
   "cell_type": "code",
   "execution_count": null,
   "id": "dba482cf-8c1a-45d6-98fd-9d9b513fd796",
   "metadata": {},
   "outputs": [],
   "source": []
  },
  {
   "cell_type": "markdown",
   "id": "b2eb057c-0282-432d-b944-77fc27b498d0",
   "metadata": {},
   "source": [
    "### Create a program to determine if a person is eligible to vote based on their age."
   ]
  },
  {
   "cell_type": "code",
   "execution_count": 5,
   "id": "e3b63107-4424-48f5-97b9-feb5211a4857",
   "metadata": {},
   "outputs": [
    {
     "name": "stdin",
     "output_type": "stream",
     "text": [
      "Enter Your Age :  3\n"
     ]
    },
    {
     "name": "stdout",
     "output_type": "stream",
     "text": [
      "The Person is Not Eligible for voting\n"
     ]
    }
   ],
   "source": [
    "def Age_of_person(Age):\n",
    "    if Age > 18:\n",
    "        return \"Eligible\"\n",
    "    else:\n",
    "        return \"Not Eligible\"\n",
    "    \n",
    "Age = int(input(\"Enter Your Age : \"))\n",
    "\n",
    "Person = Age_of_person(Age)\n",
    "\n",
    "print(f\"The Person is {Person} for voting\")"
   ]
  },
  {
   "cell_type": "code",
   "execution_count": null,
   "id": "a3712a54-e458-480f-9e36-123762c82599",
   "metadata": {},
   "outputs": [],
   "source": []
  },
  {
   "cell_type": "markdown",
   "id": "713de945-ca50-430c-97a2-16be0b1969f6",
   "metadata": {},
   "source": [
    "### Write a program to find the maximum of two given numbers using conditional statements."
   ]
  },
  {
   "cell_type": "code",
   "execution_count": 6,
   "id": "fdc9f4f7-1707-48fb-bec0-eb261b7cd215",
   "metadata": {},
   "outputs": [
    {
     "name": "stdin",
     "output_type": "stream",
     "text": [
      "Enter Number 1 :  23\n",
      "Enter Number 2 :  34\n"
     ]
    },
    {
     "name": "stdout",
     "output_type": "stream",
     "text": [
      "The Greater number is 34\n"
     ]
    }
   ],
   "source": [
    "def given_num(num1,num2):\n",
    "    if num1 > num2:\n",
    "        return num1\n",
    "    else:\n",
    "        return num2\n",
    "    \n",
    "num1 = int(input(\"Enter Number 1 : \"))\n",
    "\n",
    "num2 = int(input(\"Enter Number 2 : \"))\n",
    "\n",
    "Greater = given_num(num1, num2)\n",
    "\n",
    "print(f\"The Greater number is {Greater}\")"
   ]
  },
  {
   "cell_type": "code",
   "execution_count": null,
   "id": "58aecfe7-d175-4a69-a1c6-8d96678187a0",
   "metadata": {},
   "outputs": [],
   "source": []
  },
  {
   "cell_type": "markdown",
   "id": "7f258ed5-368e-49bc-9175-c5edb3aca048",
   "metadata": {},
   "source": [
    "### Develop a program that calculates the grade of a student based on their exam score."
   ]
  },
  {
   "cell_type": "code",
   "execution_count": 7,
   "id": "6d03a31c-bd4d-4314-ab4e-69d42cf2e48d",
   "metadata": {},
   "outputs": [
    {
     "name": "stdin",
     "output_type": "stream",
     "text": [
      "Enter Marks :  78\n"
     ]
    },
    {
     "name": "stdout",
     "output_type": "stream",
     "text": [
      "The Grade of Student is Grade 'B'\n"
     ]
    }
   ],
   "source": [
    "def students_marks(marks):\n",
    "    if marks > 90:\n",
    "        return \"Grade 'A'\"\n",
    "    elif 80 > marks > 70:\n",
    "        return \"Grade 'B'\"\n",
    "    elif 70 > marks > 60:\n",
    "        return \"Grade 'C'\"\n",
    "    else:\n",
    "        return \"Grade 'D'\"\n",
    "    \n",
    "marks = int(input(\"Enter Marks : \"))\n",
    "\n",
    "Students_Grade = students_marks(marks)\n",
    "\n",
    "print(f\"The Grade of Student is {Students_Grade}\")"
   ]
  },
  {
   "cell_type": "code",
   "execution_count": null,
   "id": "247f8a0e-195b-42d6-a7f2-39e8ddd1fc37",
   "metadata": {},
   "outputs": [],
   "source": []
  },
  {
   "cell_type": "markdown",
   "id": "660f3b75-2968-4a21-afa1-3ad06eb4f03a",
   "metadata": {},
   "source": [
    "### Create a program that checks if a year is a leap year or not."
   ]
  },
  {
   "cell_type": "code",
   "execution_count": 8,
   "id": "59f55258-9c3f-47b6-9549-79906b4d6932",
   "metadata": {},
   "outputs": [
    {
     "name": "stdin",
     "output_type": "stream",
     "text": [
      "Enter a Year :  2000\n"
     ]
    },
    {
     "name": "stdout",
     "output_type": "stream",
     "text": [
      "2000 is Leap_year\n"
     ]
    }
   ],
   "source": [
    "def leap_year(year):\n",
    "    if year % 400 == 0 or (year % 4 == 0 and year % 100 != 0):\n",
    "        return \"Leap_year\"\n",
    "    else:\n",
    "        return \"Not_a_leap_year\"\n",
    "    \n",
    "year = int(input(\"Enter a Year : \"))\n",
    "\n",
    "Leap = leap_year(year)\n",
    "\n",
    "print(f\"{year} is {Leap}\")"
   ]
  },
  {
   "cell_type": "code",
   "execution_count": null,
   "id": "18239766-e972-41aa-944c-6fbb54b058a6",
   "metadata": {},
   "outputs": [],
   "source": []
  },
  {
   "cell_type": "markdown",
   "id": "ef6c2a4a-db05-43c2-975a-e663bbb067cc",
   "metadata": {},
   "source": [
    "### Write a program to classify a triangle based on its sides' lengths."
   ]
  },
  {
   "cell_type": "code",
   "execution_count": 4,
   "id": "ef9e1246-e7da-46cf-95c7-714b89ecbd1c",
   "metadata": {},
   "outputs": [
    {
     "name": "stdin",
     "output_type": "stream",
     "text": [
      "Enter 1st Side :  1\n",
      "Enter 2nd Side :  1\n",
      "Enter 3rd Side :  1\n"
     ]
    },
    {
     "name": "stdout",
     "output_type": "stream",
     "text": [
      "The triangle is : Equilateral Triangle\n"
     ]
    }
   ],
   "source": [
    "def sides_of_triangle(a,b,c):\n",
    "    if a + b > c and a + c > b and b + c > a:\n",
    "        if a == b == c:\n",
    "            return \"Equilateral Triangle\"\n",
    "        elif a == b or b == c or a == c:\n",
    "            return \"Isosceles Triangle\"\n",
    "        else:\n",
    "            return \"Scalene Triangle\"\n",
    "    else:\n",
    "        return \"Invalid Triangle\"\n",
    "    \n",
    "a = int(input(\"Enter 1st Side : \"))\n",
    "b = int(input(\"Enter 2nd Side : \"))\n",
    "c = int(input(\"Enter 3rd Side : \"))\n",
    "\n",
    "Type = sides_of_triangle(a,b,c)\n",
    "\n",
    "print(f\"The triangle is : {Type}\")"
   ]
  },
  {
   "cell_type": "code",
   "execution_count": null,
   "id": "24c432e3-e08d-488f-a533-f43dc9f90d8f",
   "metadata": {},
   "outputs": [],
   "source": []
  },
  {
   "cell_type": "markdown",
   "id": "161db37c-89e9-4697-bb24-6cc977e235bb",
   "metadata": {},
   "source": [
    "### Build a program that determines the largest of three given numbers."
   ]
  },
  {
   "cell_type": "code",
   "execution_count": 10,
   "id": "df8e3a86-7dec-4ccc-b207-09345337f74d",
   "metadata": {},
   "outputs": [
    {
     "name": "stdin",
     "output_type": "stream",
     "text": [
      "Enter 1st number :  1\n",
      "Enter 2nd number :  2\n",
      "Enter 3rd number :  3\n"
     ]
    },
    {
     "name": "stdout",
     "output_type": "stream",
     "text": [
      "The largest number is 3\n"
     ]
    }
   ],
   "source": [
    "def largest_num(a,b,c):\n",
    "    if a > b and a > c:\n",
    "        return a\n",
    "    elif b > a and b > c:\n",
    "        return b\n",
    "    elif c > a and c > b:\n",
    "        return c\n",
    "    else:\n",
    "        return \"All are same\"\n",
    "    \n",
    "a = int(input(\"Enter 1st number : \"))\n",
    "b = int(input(\"Enter 2nd number : \"))\n",
    "c = int(input(\"Enter 3rd number : \"))\n",
    "\n",
    "largest_number = largest_num(a,b,c)\n",
    "\n",
    "print(f\"The largest number is {largest_number}\")"
   ]
  },
  {
   "cell_type": "code",
   "execution_count": null,
   "id": "0d4c9af7-6af0-4615-b086-d88e99f57dab",
   "metadata": {},
   "outputs": [],
   "source": []
  },
  {
   "cell_type": "markdown",
   "id": "6d3564ce-175f-4373-a089-1f255865c785",
   "metadata": {},
   "source": [
    "### Develop a program that checks whether a character is a vowel or a consonant."
   ]
  },
  {
   "cell_type": "code",
   "execution_count": 14,
   "id": "0e8dad84-a941-4543-a565-f88c728da20c",
   "metadata": {},
   "outputs": [
    {
     "name": "stdin",
     "output_type": "stream",
     "text": [
      "Enter a character :  a\n"
     ]
    },
    {
     "name": "stdout",
     "output_type": "stream",
     "text": [
      "The character is Vowel\n"
     ]
    }
   ],
   "source": [
    "def char(a):\n",
    "    vowels = \"aeiou\"\n",
    "    \n",
    "    if a in vowels:\n",
    "        return \"Vowel\"\n",
    "    else:\n",
    "        return \"Consonant\"\n",
    "    \n",
    "a = input(\"Enter a character : \")\n",
    "\n",
    "Type = char(a)\n",
    "\n",
    "print(f\"The character is {Type}\")"
   ]
  },
  {
   "cell_type": "code",
   "execution_count": null,
   "id": "2c9bc17f-03d3-4e82-87ac-2f1357d82cb1",
   "metadata": {},
   "outputs": [],
   "source": []
  },
  {
   "cell_type": "markdown",
   "id": "18332e4c-b7c9-4982-9197-ef8ac8efa58d",
   "metadata": {},
   "source": [
    "### Create a program to calculate the total cost of a shopping cart based on discounts."
   ]
  },
  {
   "cell_type": "code",
   "execution_count": 2,
   "id": "433d909d-46f2-4aa9-a8a2-b9a286ebb0a2",
   "metadata": {},
   "outputs": [
    {
     "name": "stdin",
     "output_type": "stream",
     "text": [
      "Enter a Price :  60000\n",
      "Enter discount : 5\n"
     ]
    },
    {
     "name": "stdout",
     "output_type": "stream",
     "text": [
      "57000.0\n"
     ]
    }
   ],
   "source": [
    "def cost(price,discount):\n",
    "    discount_price = price * (discount / 100)\n",
    "    \n",
    "    total_cost = price-discount_price\n",
    "    \n",
    "    return total_cost\n",
    "\n",
    "price = int(input(\"Enter a Price : \"))\n",
    "\n",
    "discount = float(input(\"Enter discount :\"))\n",
    "\n",
    "total = cost(price , discount)\n",
    "\n",
    "print(total)"
   ]
  },
  {
   "cell_type": "code",
   "execution_count": null,
   "id": "fa50bc8f-0888-4740-9050-44b1193851e5",
   "metadata": {},
   "outputs": [],
   "source": []
  },
  {
   "cell_type": "markdown",
   "id": "c0ccef7b-cf81-4510-b544-a0207302f988",
   "metadata": {},
   "source": [
    "### Write a program that checks if a given number is even or odd."
   ]
  },
  {
   "cell_type": "code",
   "execution_count": 5,
   "id": "4a12ce2b-2137-4806-82ea-6ce3aae3c84f",
   "metadata": {},
   "outputs": [
    {
     "name": "stdin",
     "output_type": "stream",
     "text": [
      "Enter a number :  14\n"
     ]
    },
    {
     "name": "stdout",
     "output_type": "stream",
     "text": [
      "The given number is Even\n"
     ]
    }
   ],
   "source": [
    "def given_num(num):\n",
    "    if num % 2 == 0:\n",
    "        return \"Even\"\n",
    "    else:\n",
    "        return \"Odd\"\n",
    "    \n",
    "num = int(input(\"Enter a number : \"))\n",
    "\n",
    "given_num = given_num(num)\n",
    "\n",
    "print(f\"The given number is {given_num}\")"
   ]
  },
  {
   "cell_type": "code",
   "execution_count": null,
   "id": "1542e64c-9f8c-4fbe-ab75-c8b68c75d59a",
   "metadata": {},
   "outputs": [],
   "source": []
  },
  {
   "cell_type": "markdown",
   "id": "7bdfd726-c6e6-40fe-b73a-7eeff4150612",
   "metadata": {},
   "source": [
    "## Intermediate Level:"
   ]
  },
  {
   "cell_type": "markdown",
   "id": "d86efc76-71b8-4598-a57b-67a27509cf77",
   "metadata": {},
   "source": [
    "### Write a program that calculates the roots of a quadratic equation ."
   ]
  },
  {
   "cell_type": "code",
   "execution_count": 9,
   "id": "6c5ca80c-0ec9-4bfa-9384-2da9286f9571",
   "metadata": {},
   "outputs": [
    {
     "name": "stdin",
     "output_type": "stream",
     "text": [
      "Enter the coefficient a:  1\n",
      "Enter the coefficient b:  1\n",
      "Enter the coefficient c:  1\n"
     ]
    },
    {
     "name": "stdout",
     "output_type": "stream",
     "text": [
      "The roots of the equation are: (-0.5+0.8660254037844386j) and (-0.5-0.8660254037844386j)\n"
     ]
    }
   ],
   "source": [
    "import math\n",
    "\n",
    "def calculate_roots(a, b, c):\n",
    "    # Calculate the discriminant\n",
    "    discriminant = b**2 - 4*a*c\n",
    "    \n",
    "    if discriminant > 0:\n",
    "        # Two distinct real roots\n",
    "        root1 = (-b + math.sqrt(discriminant)) / (2*a)\n",
    "        root2 = (-b - math.sqrt(discriminant)) / (2*a)\n",
    "        return root1, root2\n",
    "    elif discriminant == 0:\n",
    "        # One real root\n",
    "        root = -b / (2*a)\n",
    "        return root, None\n",
    "    else:\n",
    "        # Complex roots\n",
    "        real_part = -b / (2*a)\n",
    "        imaginary_part = math.sqrt(-discriminant) / (2*a)\n",
    "        root1 = complex(real_part, imaginary_part)\n",
    "        root2 = complex(real_part, -imaginary_part)\n",
    "        return root1, root2\n",
    "\n",
    "# Input coefficients a, b, and c\n",
    "a = float(input(\"Enter the coefficient a: \"))\n",
    "b = float(input(\"Enter the coefficient b: \"))\n",
    "c = float(input(\"Enter the coefficient c: \"))\n",
    "\n",
    "# Calculate the roots\n",
    "roots = calculate_roots(a, b, c)\n",
    "\n",
    "# Print the roots\n",
    "if roots[1] is None:\n",
    "    print(f\"The equation has one real root: {roots[0]}\")\n",
    "else:\n",
    "    print(f\"The roots of the equation are: {roots[0]} and {roots[1]}\")\n"
   ]
  },
  {
   "cell_type": "code",
   "execution_count": null,
   "id": "d63e24b6-26f1-465a-a3cf-9670c8d4ae74",
   "metadata": {},
   "outputs": [],
   "source": []
  },
  {
   "cell_type": "markdown",
   "id": "a96b9fe5-9f4e-4477-8b3e-5f36099b6d88",
   "metadata": {},
   "source": [
    "### Create a program that determines the day of the week based on the day number (1-7)."
   ]
  },
  {
   "cell_type": "code",
   "execution_count": 12,
   "id": "26036da7-0b74-406d-835e-d0c8fc3de0ea",
   "metadata": {},
   "outputs": [
    {
     "name": "stdin",
     "output_type": "stream",
     "text": [
      "Enter Day :  1\n"
     ]
    },
    {
     "name": "stdout",
     "output_type": "stream",
     "text": [
      "Day is Sun\n"
     ]
    }
   ],
   "source": [
    "def num(day):\n",
    "    if day == 1:\n",
    "        return \"Sun\"\n",
    "    elif day == 2:\n",
    "        return \"Mon\"\n",
    "    elif day == 3:\n",
    "        return \"Tue\"\n",
    "    elif day == 4:\n",
    "        return \"Wed\"\n",
    "    elif day == 5:\n",
    "        return \"Thu\"\n",
    "    elif day == 6:\n",
    "        return \"Fri\"\n",
    "    elif day == 7:\n",
    "        return \"Sat\"\n",
    "    else:\n",
    "        return \"Invalid input\"\n",
    "    \n",
    "day = int(input(\"Enter Day : \"))\n",
    "\n",
    "Day = num(day)\n",
    "\n",
    "print(f\"Day is {Day}\")\n",
    "    \n",
    "    "
   ]
  },
  {
   "cell_type": "code",
   "execution_count": null,
   "id": "6c82d4a4-155e-477a-8296-31e404220462",
   "metadata": {},
   "outputs": [],
   "source": []
  },
  {
   "cell_type": "markdown",
   "id": "6bb27227-d5db-4610-8172-84de864a712b",
   "metadata": {},
   "source": [
    "### Develop a program that calculates the factorial of a given number using recursion."
   ]
  },
  {
   "cell_type": "code",
   "execution_count": 14,
   "id": "e3c5a39f-5a64-4411-bec5-551ad766dc6e",
   "metadata": {},
   "outputs": [
    {
     "name": "stdin",
     "output_type": "stream",
     "text": [
      "Enter a Number :  5\n"
     ]
    },
    {
     "name": "stdout",
     "output_type": "stream",
     "text": [
      "The factorial of given number is 120\n"
     ]
    }
   ],
   "source": [
    "def factorial(n):\n",
    "    if n == 0 or n == 1:\n",
    "        return 1\n",
    "    else:\n",
    "        return n * factorial(n-1)\n",
    "    \n",
    "n = int(input(\"Enter a Number : \"))\n",
    "\n",
    "factorial_is = factorial(n)\n",
    "\n",
    "print(f\"The factorial of given number is {factorial_is}\")"
   ]
  },
  {
   "cell_type": "code",
   "execution_count": null,
   "id": "4e54f064-48c2-495a-9212-8cee986c0b26",
   "metadata": {},
   "outputs": [],
   "source": []
  },
  {
   "cell_type": "markdown",
   "id": "2fb0bc11-810f-462f-a39e-021d78fb5f1d",
   "metadata": {},
   "source": [
    "### Write a program to find the largest among three numbers without using the `max()` function."
   ]
  },
  {
   "cell_type": "code",
   "execution_count": 18,
   "id": "387fca94-63fd-4a34-9d6c-d5982988b601",
   "metadata": {},
   "outputs": [
    {
     "name": "stdin",
     "output_type": "stream",
     "text": [
      "Enter 1st number : 1\n",
      "Enter 2nd number : 2\n",
      "Enter 3rd number : 3\n"
     ]
    },
    {
     "name": "stdout",
     "output_type": "stream",
     "text": [
      "The maximum of this three is 3\n"
     ]
    }
   ],
   "source": [
    "def Three(a,b,c):\n",
    "    return max(a,b,c)\n",
    "\n",
    "a = int(input(\"Enter 1st number :\"))\n",
    "b = int(input(\"Enter 2nd number :\"))\n",
    "c = int(input(\"Enter 3rd number :\"))\n",
    "\n",
    "Three = Three(a,b,c)\n",
    "\n",
    "print(f\"The maximum of this three is {Three}\")"
   ]
  },
  {
   "cell_type": "code",
   "execution_count": null,
   "id": "7a3afbdb-b1a9-479e-8367-061460a689b4",
   "metadata": {},
   "outputs": [],
   "source": []
  },
  {
   "cell_type": "markdown",
   "id": "ae9afcca-34ef-4765-8611-3e258dce3612",
   "metadata": {},
   "source": [
    "### Create a program that simulates a basic ATM transaction menu."
   ]
  },
  {
   "cell_type": "code",
   "execution_count": null,
   "id": "b90c1dd4-58d9-48e3-9392-396515f475f0",
   "metadata": {},
   "outputs": [
    {
     "name": "stdout",
     "output_type": "stream",
     "text": [
      "\n",
      "ATM Transaction Menu:\n",
      "1. Check Balance\n",
      "2. Deposit Money\n",
      "3. Withdraw Money\n",
      "4. Exit\n"
     ]
    },
    {
     "name": "stdin",
     "output_type": "stream",
     "text": [
      "Please choose an option (1-4):  2\n",
      "\n",
      "Enter the amount to deposit: $ 1234\n"
     ]
    },
    {
     "name": "stdout",
     "output_type": "stream",
     "text": [
      "$1234.00 has been deposited to your account.\n",
      "\n",
      "ATM Transaction Menu:\n",
      "1. Check Balance\n",
      "2. Deposit Money\n",
      "3. Withdraw Money\n",
      "4. Exit\n"
     ]
    },
    {
     "name": "stdin",
     "output_type": "stream",
     "text": [
      "Please choose an option (1-4):  1\n"
     ]
    },
    {
     "name": "stdout",
     "output_type": "stream",
     "text": [
      "\n",
      "Your current balance is: $1234.00\n",
      "\n",
      "ATM Transaction Menu:\n",
      "1. Check Balance\n",
      "2. Deposit Money\n",
      "3. Withdraw Money\n",
      "4. Exit\n"
     ]
    }
   ],
   "source": [
    "def display_menu():\n",
    "    print(\"\\nATM Transaction Menu:\")\n",
    "    print(\"1. Check Balance\")\n",
    "    print(\"2. Deposit Money\")\n",
    "    print(\"3. Withdraw Money\")\n",
    "    print(\"4. Exit\")\n",
    "\n",
    "def check_balance(balance):\n",
    "    print(f\"\\nYour current balance is: ${balance:.2f}\")\n",
    "\n",
    "def deposit_money(balance):\n",
    "    amount = float(input(\"\\nEnter the amount to deposit: $\"))\n",
    "    if amount > 0:\n",
    "        balance += amount\n",
    "        print(f\"${amount:.2f} has been deposited to your account.\")\n",
    "    else:\n",
    "        print(\"Invalid deposit amount.\")\n",
    "    return balance\n",
    "\n",
    "def withdraw_money(balance):\n",
    "    amount = float(input(\"\\nEnter the amount to withdraw: $\"))\n",
    "    if amount > 0:\n",
    "        if amount <= balance:\n",
    "            balance -= amount\n",
    "            print(f\"${amount:.2f} has been withdrawn from your account.\")\n",
    "        else:\n",
    "            print(\"Insufficient balance.\")\n",
    "    else:\n",
    "        print(\"Invalid withdrawal amount.\")\n",
    "    return balance\n",
    "\n",
    "def atm_simulation():\n",
    "    balance = 0.0  # Initial balance\n",
    "    while True:\n",
    "        display_menu()\n",
    "        choice = input(\"Please choose an option (1-4): \")\n",
    "\n",
    "        if choice == '1':\n",
    "            check_balance(balance)\n",
    "        elif choice == '2':\n",
    "            balance = deposit_money(balance)\n",
    "        elif choice == '3':\n",
    "            balance = withdraw_money(balance)\n",
    "        elif choice == '4':\n",
    "            print(\"Thank you for using the ATM. Goodbye!\")\n",
    "            break\n",
    "        else:\n",
    "            print(\"Invalid option. Please choose a valid option (1-4).\")\n",
    "\n",
    "if __name__ == \"__main__\":\n",
    "    atm_simulation()\n"
   ]
  },
  {
   "cell_type": "code",
   "execution_count": null,
   "id": "3c702a97-cb95-4ad9-8fff-b8580a630b1c",
   "metadata": {},
   "outputs": [],
   "source": []
  },
  {
   "cell_type": "markdown",
   "id": "4c2f4096-f573-4da6-9df7-5e83a1f36560",
   "metadata": {},
   "source": [
    "### Build a program that checks if a given string is a palindrome or not."
   ]
  },
  {
   "cell_type": "code",
   "execution_count": 3,
   "id": "014988c4-ec56-4946-bf07-c1e2595baa01",
   "metadata": {},
   "outputs": [
    {
     "name": "stdin",
     "output_type": "stream",
     "text": [
      "Enter a String :  wow\n"
     ]
    },
    {
     "name": "stdout",
     "output_type": "stream",
     "text": [
      "The String is Palindrome\n"
     ]
    }
   ],
   "source": [
    "def check(string):\n",
    "    if string == string[::-1]:\n",
    "        return \"Palindrome\"\n",
    "    else:\n",
    "        return \"Not Palindrome\"\n",
    "    \n",
    "inp_string = input(\"Enter a String : \")\n",
    "\n",
    "check = check(inp_string)\n",
    "\n",
    "print(f\"The String is {check}\")"
   ]
  },
  {
   "cell_type": "code",
   "execution_count": null,
   "id": "84f4f547-68dd-4304-b858-4c437cd49ddc",
   "metadata": {},
   "outputs": [],
   "source": []
  },
  {
   "cell_type": "markdown",
   "id": "4f67f07a-7631-4013-80bf-8170caeb82c7",
   "metadata": {},
   "source": [
    "### Write a program that calculates the average of a list of numbers, excluding the smallest and largest values."
   ]
  },
  {
   "cell_type": "code",
   "execution_count": 5,
   "id": "e4829663-1c6c-40d9-876a-4edf43c6ebdd",
   "metadata": {},
   "outputs": [
    {
     "name": "stdout",
     "output_type": "stream",
     "text": [
      "The average, excluding the smallest and largest values, is: 4.2\n"
     ]
    }
   ],
   "source": [
    "def average_excluding_extremes(numbers):\n",
    "    # Check if the list has enough elements to exclude the smallest and largest\n",
    "    if len(numbers) <= 2:\n",
    "        raise ValueError(\"List must contain more than two elements to exclude the smallest and largest values.\")\n",
    "    \n",
    "    # Sort the list to easily remove the smallest and largest elements\n",
    "    sorted_numbers = sorted(numbers)\n",
    "    \n",
    "    # Exclude the smallest and largest elements\n",
    "    trimmed_numbers = sorted_numbers[1:-1]\n",
    "    \n",
    "    # Calculate the average of the remaining numbers\n",
    "    average = sum(trimmed_numbers) / len(trimmed_numbers)\n",
    "    \n",
    "    return average\n",
    "\n",
    "# Example usage\n",
    "numbers = [4, 2, 7, 1, 9, 3, 5]\n",
    "average = average_excluding_extremes(numbers)\n",
    "print(f\"The average, excluding the smallest and largest values, is: {average}\")\n"
   ]
  },
  {
   "cell_type": "code",
   "execution_count": null,
   "id": "5d0b8951-ee03-4a92-88d9-9ff4c1236e5c",
   "metadata": {},
   "outputs": [],
   "source": []
  },
  {
   "cell_type": "markdown",
   "id": "ce643cce-4779-40ee-bf10-63bdf8be54c0",
   "metadata": {},
   "source": [
    "### 18. Develop a program that converts a given temperature from Celsius to Fahrenheit."
   ]
  },
  {
   "cell_type": "code",
   "execution_count": 13,
   "id": "c9444ef4-b502-4032-8cd2-2f7958196fbb",
   "metadata": {},
   "outputs": [
    {
     "name": "stdin",
     "output_type": "stream",
     "text": [
      "Enter Temperture value : 45\n"
     ]
    },
    {
     "name": "stdout",
     "output_type": "stream",
     "text": [
      "45.0 celsius is 113.0 Farhenheit\n"
     ]
    }
   ],
   "source": [
    "def cel(celsius):\n",
    "    if celsius == 0:\n",
    "        return 32\n",
    "    else:\n",
    "        return ((9/5)*celsius) + 32\n",
    "    \n",
    "temp = float(input(\"Enter Temperture value :\"))\n",
    "\n",
    "Farhenheit = float(cel(temp))\n",
    "\n",
    "print(f\"{temp} celsius is {(Farhenheit)} Farhenheit\")"
   ]
  },
  {
   "cell_type": "code",
   "execution_count": null,
   "id": "809501ee-a149-4793-b111-223c20e61d6c",
   "metadata": {},
   "outputs": [],
   "source": []
  },
  {
   "cell_type": "markdown",
   "id": "9dd1f43f-7e3e-4ef5-8561-24d9b8934636",
   "metadata": {},
   "source": [
    "### Create a program that simulates a basic calculator for addition, subtraction, multiplication, and division."
   ]
  },
  {
   "cell_type": "code",
   "execution_count": null,
   "id": "b11e6815-81f4-4e11-891d-506c133c17c4",
   "metadata": {},
   "outputs": [
    {
     "name": "stdout",
     "output_type": "stream",
     "text": [
      "Welcome to the basic calculator!\n",
      "Select operation:\n",
      "1. Addition\n",
      "2. Subtraction\n",
      "3. Multiplication\n",
      "4. Division\n"
     ]
    },
    {
     "name": "stdin",
     "output_type": "stream",
     "text": [
      "Enter choice(1/2/3/4):  12\n"
     ]
    },
    {
     "name": "stdout",
     "output_type": "stream",
     "text": [
      "Invalid input. Please select a valid operation.\n"
     ]
    },
    {
     "name": "stdin",
     "output_type": "stream",
     "text": [
      "Do you want to perform another calculation? (yes/no):  12\n"
     ]
    },
    {
     "name": "stdout",
     "output_type": "stream",
     "text": [
      "Thank you for using the basic calculator!\n"
     ]
    }
   ],
   "source": [
    "def add(x, y):\n",
    "    return x + y\n",
    "\n",
    "def subtract(x, y):\n",
    "    return x - y\n",
    "\n",
    "def multiply(x, y):\n",
    "    return x * y\n",
    "\n",
    "def divide(x, y):\n",
    "    if y == 0:\n",
    "        raise ValueError(\"Cannot divide by zero.\")\n",
    "    return x / y\n",
    "\n",
    "def calculator():\n",
    "    print(\"Welcome to the basic calculator!\")\n",
    "    print(\"Select operation:\")\n",
    "    print(\"1. Addition\")\n",
    "    print(\"2. Subtraction\")\n",
    "    print(\"3. Multiplication\")\n",
    "    print(\"4. Division\")\n",
    "    \n",
    "    while True:\n",
    "        # Take input from the user\n",
    "        choice = input(\"Enter choice(1/2/3/4): \")\n",
    "        \n",
    "        # Check if choice is one of the four options\n",
    "        if choice in ['1', '2', '3', '4']:\n",
    "            try:\n",
    "                num1 = float(input(\"Enter first number: \"))\n",
    "                num2 = float(input(\"Enter second number: \"))\n",
    "            except ValueError:\n",
    "                print(\"Invalid input. Please enter numeric values.\")\n",
    "                continue\n",
    "            \n",
    "            if choice == '1':\n",
    "                print(f\"{num1} + {num2} = {add(num1, num2)}\")\n",
    "            elif choice == '2':\n",
    "                print(f\"{num1} - {num2} = {subtract(num1, num2)}\")\n",
    "            elif choice == '3':\n",
    "                print(f\"{num1} * {num2} = {multiply(num1, num2)}\")\n",
    "            elif choice == '4':\n",
    "                try:\n",
    "                    result = divide(num1, num2)\n",
    "                    print(f\"{num1} / {num2} = {result}\")\n",
    "                except ValueError as e:\n",
    "                    print(e)\n",
    "        else:\n",
    "            print(\"Invalid input. Please select a valid operation.\")\n",
    "        \n",
    "        # Ask if the user wants to perform another calculation\n",
    "        next_calculation = input(\"Do you want to perform another calculation? (yes/no): \")\n",
    "        if next_calculation.lower() != 'yes':\n",
    "            print(\"Thank you for using the basic calculator!\")\n",
    "            break\n",
    "\n",
    "# Run the calculator\n",
    "calculator()\n"
   ]
  },
  {
   "cell_type": "code",
   "execution_count": null,
   "id": "d290949b-2563-4e1f-ab92-06502441507e",
   "metadata": {},
   "outputs": [],
   "source": []
  },
  {
   "cell_type": "markdown",
   "id": "e0522579-2083-4e72-ba4e-6a18895c3c89",
   "metadata": {},
   "source": [
    "### Write a program that determines the roots of a cubic equation using the Cardano formula."
   ]
  },
  {
   "cell_type": "code",
   "execution_count": 2,
   "id": "4d41faa2-b189-4715-8e71-440d742d27d7",
   "metadata": {},
   "outputs": [
    {
     "name": "stdout",
     "output_type": "stream",
     "text": [
      "The roots of the cubic equation are:\n",
      "(3+0j)\n",
      "(1.0000000000000002+0j)\n",
      "(1.9999999999999998+0j)\n"
     ]
    }
   ],
   "source": [
    "import cmath\n",
    "\n",
    "def cardano_formula(a, b, c, d):\n",
    "    # Check if the coefficient a is zero, in which case it's not a cubic equation\n",
    "    if a == 0:\n",
    "        raise ValueError(\"The coefficient a must be non-zero for a cubic equation.\")\n",
    "    \n",
    "    # Normalize the coefficients\n",
    "    b /= a\n",
    "    c /= a\n",
    "    d /= a\n",
    "    \n",
    "    # Compute the constants for the depressed cubic equation t^3 + pt + q = 0\n",
    "    p = c - (b**2 / 3)\n",
    "    q = (2 * b**3 / 27) - (b * c / 3) + d\n",
    "\n",
    "    # Calculate the discriminant\n",
    "    discriminant = (q / 2)**2 + (p / 3)**3\n",
    "\n",
    "    # Calculate the roots using the Cardano formula\n",
    "    if discriminant > 0:\n",
    "        # One real root and two complex roots\n",
    "        u = cmath.exp(cmath.log(-q / 2 + cmath.sqrt(discriminant)) / 3)\n",
    "        v = cmath.exp(cmath.log(-q / 2 - cmath.sqrt(discriminant)) / 3)\n",
    "    elif discriminant == 0:\n",
    "        # Three real roots, at least two are equal\n",
    "        u = v = -cmath.exp(cmath.log(q / 2) / 3)\n",
    "    else:\n",
    "        # Three distinct real roots\n",
    "        u = cmath.exp(cmath.log(-q / 2 + cmath.sqrt(discriminant)) / 3)\n",
    "        v = cmath.exp(cmath.log(-q / 2 - cmath.sqrt(discriminant)) / 3)\n",
    "\n",
    "    # Calculate the roots\n",
    "    t1 = u + v\n",
    "    t2 = -(u + v) / 2 + cmath.sqrt(3) * (u - v) * cmath.sqrt(-1) / 2\n",
    "    t3 = -(u + v) / 2 - cmath.sqrt(3) * (u - v) * cmath.sqrt(-1) / 2\n",
    "\n",
    "    # Transform back to the original variable x\n",
    "    root1 = t1 - b / 3\n",
    "    root2 = t2 - b / 3\n",
    "    root3 = t3 - b / 3\n",
    "\n",
    "    return root1, root2, root3\n",
    "\n",
    "# Example usage\n",
    "a, b, c, d = 1, -6, 11, -6\n",
    "roots = cardano_formula(a, b, c, d)\n",
    "print(\"The roots of the cubic equation are:\")\n",
    "for root in roots:\n",
    "    print(root)\n"
   ]
  },
  {
   "cell_type": "code",
   "execution_count": null,
   "id": "19fed1c3-cce4-42d8-b9ca-2a6448732287",
   "metadata": {},
   "outputs": [],
   "source": []
  },
  {
   "cell_type": "markdown",
   "id": "6e42c8ce-4000-4c2b-b9dd-f88c7caf866f",
   "metadata": {},
   "source": [
    "## Advanced Level:"
   ]
  },
  {
   "cell_type": "markdown",
   "id": "15af5acc-2af5-49d5-906b-0fda27201b18",
   "metadata": {},
   "source": [
    "### Create a program that calculates the income tax based on the user's income and tax brackets."
   ]
  },
  {
   "cell_type": "code",
   "execution_count": 3,
   "id": "e32b67e6-00ef-44d7-b8b6-01b32878c574",
   "metadata": {},
   "outputs": [
    {
     "name": "stdin",
     "output_type": "stream",
     "text": [
      "Enter your taxable income:  3\n"
     ]
    },
    {
     "name": "stdout",
     "output_type": "stream",
     "text": [
      "The calculated tax on an income of $3.0 is: $0.30\n"
     ]
    }
   ],
   "source": [
    "def calculate_tax(income, tax_brackets):\n",
    "    \"\"\"\n",
    "    Calculate the income tax based on given tax brackets.\n",
    "\n",
    "    Parameters:\n",
    "    income (float): The taxable income.\n",
    "    tax_brackets (list of tuples): Tax brackets where each tuple contains\n",
    "                                   (upper_limit, tax_rate).\n",
    "\n",
    "    Returns:\n",
    "    float: The calculated tax.\n",
    "    \"\"\"\n",
    "    tax = 0.0\n",
    "    previous_limit = 0.0\n",
    "\n",
    "    for upper_limit, tax_rate in tax_brackets:\n",
    "        if income <= upper_limit:\n",
    "            tax += (income - previous_limit) * tax_rate\n",
    "            break\n",
    "        else:\n",
    "            tax += (upper_limit - previous_limit) * tax_rate\n",
    "            previous_limit = upper_limit\n",
    "\n",
    "    return tax\n",
    "\n",
    "\n",
    "tax_brackets = [\n",
    "    (9875, 0.10),       # 10% for income up to $9,875\n",
    "    (40125, 0.12),      # 12% for income from $9,876 to $40,125\n",
    "    (85525, 0.22),      # 22% for income from $40,126 to $85,525\n",
    "    (163300, 0.24),     # 24% for income from $85,526 to $163,300\n",
    "    (207350, 0.32),     # 32% for income from $163,301 to $207,350\n",
    "    (518400, 0.35),     # 35% for income from $207,351 to $518,400\n",
    "    (float('inf'), 0.37) # 37% for income above $518,400\n",
    "]\n",
    "\n",
    "# Example usage\n",
    "income = float(input(\"Enter your taxable income: \"))\n",
    "tax = calculate_tax(income, tax_brackets)\n",
    "print(f\"The calculated tax on an income of ${income} is: ${tax:.2f}\")\n"
   ]
  },
  {
   "cell_type": "code",
   "execution_count": null,
   "id": "6e6c010e-ee48-4258-9cbc-7187c907c3d0",
   "metadata": {},
   "outputs": [],
   "source": []
  },
  {
   "cell_type": "markdown",
   "id": "a0294e87-3f6f-4372-907c-0f24da3868ed",
   "metadata": {},
   "source": [
    "### Write a program that simulates a rock-paper-scissors game against the computer."
   ]
  },
  {
   "cell_type": "code",
   "execution_count": 11,
   "id": "69e84f7f-5384-45b5-a939-5c0d69afa442",
   "metadata": {},
   "outputs": [
    {
     "name": "stdout",
     "output_type": "stream",
     "text": [
      "Welcome to Game:\n"
     ]
    },
    {
     "name": "stdin",
     "output_type": "stream",
     "text": [
      "Enter user choice :  paper\n"
     ]
    },
    {
     "name": "stdout",
     "output_type": "stream",
     "text": [
      "The computer chose: rock\n",
      "You lose!\n"
     ]
    }
   ],
   "source": [
    "import random\n",
    "\n",
    "def get_computer_choice():\n",
    "    choices = [\"rock\", \"paper\", \"scissors\"]\n",
    "    return random.choice(choices)\n",
    "\n",
    "def get_user_choice():\n",
    "    while True:\n",
    "        choice = input(\"Enter user choice : \")\n",
    "        if choice in [\"rock\", \"paper\",\"scissors\"]:\n",
    "            return choice\n",
    "        else:\n",
    "            print(\"Invalid input\")\n",
    "            \n",
    "def determine_winner(computer_choice , user_choice):\n",
    "    if user_choice == computer_choice:\n",
    "        return \"It's a Tie\"\n",
    "    elif (user_choice == \"rock\" and computer_choice == \"scissors\") or \\\n",
    "         (user_choice == \"paper\" and computer_choice == \"rock\") or \\\n",
    "         (user_choice == \"scissors\" and computer_choice == \"paper\"):\n",
    "        return \"You win!\"\n",
    "    else:\n",
    "        return \"You lose!\"\n",
    "    \n",
    "def play_game():\n",
    "    print(\"Welcome to Game:\")\n",
    "    user_choice = get_user_choice()\n",
    "    computer_choice = get_computer_choice()\n",
    "    print(f\"The computer chose: {computer_choice}\")\n",
    "    result = determine_winner(user_choice, computer_choice)\n",
    "    print(result)\n",
    "    \n",
    "play_game()"
   ]
  },
  {
   "cell_type": "code",
   "execution_count": null,
   "id": "2ba1315f-9f7d-43c9-9946-63b039c6d980",
   "metadata": {},
   "outputs": [],
   "source": []
  },
  {
   "cell_type": "markdown",
   "id": "073f5b63-90cc-4a47-ba79-ce15279e118d",
   "metadata": {},
   "source": [
    "### Develop a program that generates a random password based on user preferences (length, complexity)."
   ]
  },
  {
   "cell_type": "code",
   "execution_count": 1,
   "id": "0d90b52a-853c-4dd5-82db-6ad6cf54c9a0",
   "metadata": {
    "collapsed": true,
    "jupyter": {
     "outputs_hidden": true
    },
    "tags": []
   },
   "outputs": [
    {
     "name": "stdin",
     "output_type": "stream",
     "text": [
      "Enter the desired password length:  8\n",
      "Include uppercase letters? (yes/no):  yes\n",
      "Include lowercase letters? (yes/no):  no\n",
      "Include digits? (yes/no):  yes\n",
      "Include special characters? (yes/no):  yes\n"
     ]
    },
    {
     "name": "stdout",
     "output_type": "stream",
     "text": [
      "Generated password: $|=7;%T}\n"
     ]
    }
   ],
   "source": [
    "import random\n",
    "import string\n",
    "\n",
    "def generate_password(length, include_uppercase=True, include_lowercase=True, include_digits=True, include_special=True):\n",
    "    if not (include_uppercase or include_lowercase or include_digits or include_special):\n",
    "        raise ValueError(\"At least one character type must be selected\")\n",
    "    \n",
    "    characters = \"\"\n",
    "    if include_uppercase:\n",
    "        characters += string.ascii_uppercase\n",
    "    if include_lowercase:\n",
    "        characters += string.ascii_lowercase\n",
    "    if include_digits:\n",
    "        characters += string.digits\n",
    "    if include_special:\n",
    "        characters += string.punctuation\n",
    "    \n",
    "    if len(characters) == 0:\n",
    "        raise ValueError(\"No characters available to generate password\")\n",
    "    \n",
    "    password = ''.join(random.choice(characters) for _ in range(length))\n",
    "    return password\n",
    "\n",
    "# Example usage:\n",
    "length = int(input(\"Enter the desired password length: \"))\n",
    "include_uppercase = input(\"Include uppercase letters? (yes/no): \").strip().lower() == \"yes\"\n",
    "include_lowercase = input(\"Include lowercase letters? (yes/no): \").strip().lower() == \"yes\"\n",
    "include_digits = input(\"Include digits? (yes/no): \").strip().lower() == \"yes\"\n",
    "include_special = input(\"Include special characters? (yes/no): \").strip().lower() == \"yes\"\n",
    "\n",
    "password = generate_password(length, include_uppercase, include_lowercase, include_digits, include_special)\n",
    "print(f\"Generated password: {password}\")\n"
   ]
  },
  {
   "cell_type": "code",
   "execution_count": null,
   "id": "e71262d8-782d-4b5f-94c6-512707d0504d",
   "metadata": {},
   "outputs": [],
   "source": []
  },
  {
   "cell_type": "markdown",
   "id": "c6532e72-2e50-43e1-bc8d-9ccb61147f34",
   "metadata": {},
   "source": [
    "### Create a program that implements a simple text-based adventure game with branching scenarios."
   ]
  },
  {
   "cell_type": "code",
   "execution_count": null,
   "id": "af3dc584-0ead-459d-bd5f-65410f2bb337",
   "metadata": {},
   "outputs": [],
   "source": [
    "def start_game():\n",
    "    print(\"Welcome to the Adventure Game!\")\n",
    "    print(\"You find yourself in a dark forest. There are paths to the left and right.\")\n",
    "    choice = input(\"Do you want to go left or right? (left/right): \").strip().lower()\n",
    "    \n",
    "    if choice == \"left\":\n",
    "        left_path()\n",
    "    elif choice == \"right\":\n",
    "        right_path()\n",
    "    else:\n",
    "        print(\"Invalid choice. Please try again.\")\n",
    "        start_game()\n",
    "\n",
    "def left_path():\n",
    "    print(\"\\nYou walk down the left path and encounter a friendly wizard.\")\n",
    "    print(\"The wizard offers you a choice between a magical sword and a healing potion.\")\n",
    "    choice = input(\"Do you choose the sword or the potion? (sword/potion): \").strip().lower()\n",
    "    \n",
    "    if choice == \"sword\":\n",
    "        sword_path()\n",
    "    elif choice == \"potion\":\n",
    "        potion_path()\n",
    "    else:\n",
    "        print(\"Invalid choice. Please try again.\")\n",
    "        left_path()\n",
    "\n",
    "def right_path():\n",
    "    print(\"\\nYou walk down the right path and encounter a fierce dragon.\")\n",
    "    print(\"You can either try to fight the dragon or run away.\")\n",
    "    choice = input(\"Do you want to fight or run? (fight/run): \").strip().lower()\n",
    "    \n",
    "    if choice == \"fight\":\n",
    "        fight_path()\n",
    "    elif choice == \"run\":\n",
    "        run_path()\n",
    "    else:\n",
    "        print(\"Invalid choice. Please try again.\")\n",
    "        right_path()\n",
    "\n",
    "def sword_path():\n",
    "    print(\"\\nYou chose the magical sword.\")\n",
    "    print(\"With the sword in hand, you feel invincible.\")\n",
    "    print(\"You continue your journey and eventually defeat the evil warlock, saving the kingdom!\")\n",
    "    print(\"Congratulations, you win!\")\n",
    "    play_again()\n",
    "\n",
    "def potion_path():\n",
    "    print(\"\\nYou chose the healing potion.\")\n",
    "    print(\"With the potion, you feel rejuvenated and continue your journey.\")\n",
    "    print(\"However, you encounter a troll and without a weapon, you are unable to defend yourself.\")\n",
    "    print(\"The troll captures you. Game over.\")\n",
    "    play_again()\n",
    "\n",
    "def fight_path():\n",
    "    print(\"\\nYou chose to fight the dragon.\")\n",
    "    print(\"Without a weapon, you are no match for the dragon.\")\n",
    "    print(\"The dragon defeats you. Game over.\")\n",
    "    play_again()\n",
    "\n",
    "def run_path():\n",
    "    print(\"\\nYou chose to run away from the dragon.\")\n",
    "    print(\"You manage to escape and find a hidden treasure in the forest.\")\n",
    "    print(\"You take the treasure and become the richest person in the kingdom!\")\n",
    "    print(\"Congratulations, you win!\")\n",
    "    play_again()\n",
    "\n",
    "def play_again():\n",
    "    choice = input(\"\\nDo you want to play again? (yes/no): \").strip().lower()\n",
    "    if choice == \"yes\":\n",
    "        start_game()\n",
    "    elif choice == \"no\":\n",
    "        print(\"Thank you for playing! Goodbye.\")\n",
    "    else:\n",
    "        print(\"Invalid choice. Please try again.\")\n",
    "        play_again()\n",
    "\n",
    "if __name__ == \"__main__\":\n",
    "    start_game()\n"
   ]
  },
  {
   "cell_type": "code",
   "execution_count": null,
   "id": "7341353e-c210-4c80-8e1a-06d94e6340b3",
   "metadata": {},
   "outputs": [],
   "source": []
  },
  {
   "cell_type": "markdown",
   "id": "8b3ec7c4-b55c-49b0-ac10-f3c48cc1c9e4",
   "metadata": {},
   "source": [
    "### Write a program that simulates a basic quiz game with multiple-choice questions and scoring."
   ]
  },
  {
   "cell_type": "code",
   "execution_count": null,
   "id": "6972a041-68b0-4379-8019-0a0d76417b11",
   "metadata": {},
   "outputs": [
    {
     "name": "stdout",
     "output_type": "stream",
     "text": [
      "Welcome to the Quiz Game!\n",
      "\n",
      "What is the capital of France?\n",
      "1. Berlin\n",
      "2. Madrid\n",
      "3. Paris\n",
      "4. Rome\n"
     ]
    },
    {
     "name": "stdin",
     "output_type": "stream",
     "text": [
      "Your answer (1/2/3/4):  \n"
     ]
    },
    {
     "name": "stdout",
     "output_type": "stream",
     "text": [
      "Invalid input. Please enter a number between 1 and 4.\n"
     ]
    },
    {
     "name": "stdin",
     "output_type": "stream",
     "text": [
      "Your answer (1/2/3/4):  \n"
     ]
    },
    {
     "name": "stdout",
     "output_type": "stream",
     "text": [
      "Invalid input. Please enter a number between 1 and 4.\n"
     ]
    },
    {
     "name": "stdin",
     "output_type": "stream",
     "text": [
      "Your answer (1/2/3/4):  \n"
     ]
    },
    {
     "name": "stdout",
     "output_type": "stream",
     "text": [
      "Invalid input. Please enter a number between 1 and 4.\n"
     ]
    },
    {
     "name": "stdin",
     "output_type": "stream",
     "text": [
      "Your answer (1/2/3/4):  \n"
     ]
    },
    {
     "name": "stdout",
     "output_type": "stream",
     "text": [
      "Invalid input. Please enter a number between 1 and 4.\n"
     ]
    },
    {
     "name": "stdin",
     "output_type": "stream",
     "text": [
      "Your answer (1/2/3/4):  \n"
     ]
    },
    {
     "name": "stdout",
     "output_type": "stream",
     "text": [
      "Invalid input. Please enter a number between 1 and 4.\n"
     ]
    },
    {
     "name": "stdin",
     "output_type": "stream",
     "text": [
      "Your answer (1/2/3/4):  \n"
     ]
    },
    {
     "name": "stdout",
     "output_type": "stream",
     "text": [
      "Invalid input. Please enter a number between 1 and 4.\n"
     ]
    },
    {
     "name": "stdin",
     "output_type": "stream",
     "text": [
      "Your answer (1/2/3/4):  \n"
     ]
    },
    {
     "name": "stdout",
     "output_type": "stream",
     "text": [
      "Invalid input. Please enter a number between 1 and 4.\n"
     ]
    },
    {
     "name": "stdin",
     "output_type": "stream",
     "text": [
      "Your answer (1/2/3/4):  \n"
     ]
    },
    {
     "name": "stdout",
     "output_type": "stream",
     "text": [
      "Invalid input. Please enter a number between 1 and 4.\n"
     ]
    },
    {
     "name": "stdin",
     "output_type": "stream",
     "text": [
      "Your answer (1/2/3/4):  \n"
     ]
    },
    {
     "name": "stdout",
     "output_type": "stream",
     "text": [
      "Invalid input. Please enter a number between 1 and 4.\n"
     ]
    },
    {
     "name": "stdin",
     "output_type": "stream",
     "text": [
      "Your answer (1/2/3/4):  \n"
     ]
    },
    {
     "name": "stdout",
     "output_type": "stream",
     "text": [
      "Invalid input. Please enter a number between 1 and 4.\n"
     ]
    },
    {
     "name": "stdin",
     "output_type": "stream",
     "text": [
      "Your answer (1/2/3/4):  \n"
     ]
    },
    {
     "name": "stdout",
     "output_type": "stream",
     "text": [
      "Invalid input. Please enter a number between 1 and 4.\n"
     ]
    },
    {
     "name": "stdin",
     "output_type": "stream",
     "text": [
      "Your answer (1/2/3/4):  \n"
     ]
    },
    {
     "name": "stdout",
     "output_type": "stream",
     "text": [
      "Invalid input. Please enter a number between 1 and 4.\n"
     ]
    },
    {
     "name": "stdin",
     "output_type": "stream",
     "text": [
      "Your answer (1/2/3/4):  \n"
     ]
    },
    {
     "name": "stdout",
     "output_type": "stream",
     "text": [
      "Invalid input. Please enter a number between 1 and 4.\n"
     ]
    },
    {
     "name": "stdin",
     "output_type": "stream",
     "text": [
      "Your answer (1/2/3/4):  1\n"
     ]
    },
    {
     "name": "stdout",
     "output_type": "stream",
     "text": [
      "Incorrect.\n",
      "\n",
      "What is the largest planet in our solar system?\n",
      "1. Earth\n",
      "2. Jupiter\n",
      "3. Mars\n",
      "4. Saturn\n"
     ]
    }
   ],
   "source": [
    "def display_question(question, options, correct_option):\n",
    "    print(\"\\n\" + question)\n",
    "    for i, option in enumerate(options):\n",
    "        print(f\"{i + 1}. {option}\")\n",
    "    \n",
    "    while True:\n",
    "        try:\n",
    "            answer = int(input(\"Your answer (1/2/3/4): \"))\n",
    "            if answer in range(1, 5):\n",
    "                return answer == correct_option\n",
    "            else:\n",
    "                print(\"Please enter a number between 1 and 4.\")\n",
    "        except ValueError:\n",
    "            print(\"Invalid input. Please enter a number between 1 and 4.\")\n",
    "\n",
    "def main():\n",
    "    questions = [\n",
    "        {\n",
    "            \"question\": \"What is the capital of France?\",\n",
    "            \"options\": [\"Berlin\", \"Madrid\", \"Paris\", \"Rome\"],\n",
    "            \"correct_option\": 3\n",
    "        },\n",
    "        {\n",
    "            \"question\": \"What is the largest planet in our solar system?\",\n",
    "            \"options\": [\"Earth\", \"Jupiter\", \"Mars\", \"Saturn\"],\n",
    "            \"correct_option\": 2\n",
    "        },\n",
    "        {\n",
    "            \"question\": \"Who wrote 'To Kill a Mockingbird'?\",\n",
    "            \"options\": [\"Harper Lee\", \"Mark Twain\", \"J.K. Rowling\", \"Jane Austen\"],\n",
    "            \"correct_option\": 1\n",
    "        },\n",
    "        {\n",
    "            \"question\": \"What is the chemical symbol for water?\",\n",
    "            \"options\": [\"H2O\", \"O2\", \"CO2\", \"HO\"],\n",
    "            \"correct_option\": 1\n",
    "        },\n",
    "        {\n",
    "            \"question\": \"Which element has the atomic number 1?\",\n",
    "            \"options\": [\"Helium\", \"Oxygen\", \"Hydrogen\", \"Carbon\"],\n",
    "            \"correct_option\": 3\n",
    "        }\n",
    "    ]\n",
    "    \n",
    "    score = 0\n",
    "    \n",
    "    print(\"Welcome to the Quiz Game!\")\n",
    "    \n",
    "    for q in questions:\n",
    "        if display_question(q[\"question\"], q[\"options\"], q[\"correct_option\"]):\n",
    "            print(\"Correct!\")\n",
    "            score += 1\n",
    "        else:\n",
    "            print(\"Incorrect.\")\n",
    "    \n",
    "    print(f\"\\nYour final score is: {score} out of {len(questions)}\")\n",
    "\n",
    "if __name__ == \"__main__\":\n",
    "    main()\n"
   ]
  },
  {
   "cell_type": "code",
   "execution_count": null,
   "id": "a511f3fa-cbde-46b8-893d-20f125090f0a",
   "metadata": {},
   "outputs": [],
   "source": []
  },
  {
   "cell_type": "markdown",
   "id": "2a533ba2-4f87-44d5-822c-4f52c54e74c8",
   "metadata": {},
   "source": [
    "### def is_prime(number):"
   ]
  },
  {
   "cell_type": "code",
   "execution_count": 2,
   "id": "789042aa-5848-44af-885d-4526e09b29c2",
   "metadata": {},
   "outputs": [
    {
     "name": "stdin",
     "output_type": "stream",
     "text": [
      "Enter a year to check if it is a prime number:  123\n"
     ]
    },
    {
     "name": "stdout",
     "output_type": "stream",
     "text": [
      "The year 123 is not a prime number.\n"
     ]
    }
   ],
   "source": [
    "def is_prime(number):\n",
    "    if number <= 1:\n",
    "        return False\n",
    "    if number <= 3:\n",
    "        return True\n",
    "    if number % 2 == 0 or number % 3 == 0:\n",
    "        return False\n",
    "    i = 5\n",
    "    while i * i <= number:\n",
    "        if number % i == 0 or number % (i + 2) == 0:\n",
    "            return False\n",
    "        i += 6\n",
    "    return True\n",
    "\n",
    "def main():\n",
    "    try:\n",
    "        year = int(input(\"Enter a year to check if it is a prime number: \"))\n",
    "        if is_prime(year):\n",
    "            print(f\"The year {year} is a prime number.\")\n",
    "        else:\n",
    "            print(f\"The year {year} is not a prime number.\")\n",
    "    except ValueError:\n",
    "        print(\"Invalid input. Please enter a valid year.\")\n",
    "\n",
    "if __name__ == \"__main__\":\n",
    "    main()\n"
   ]
  },
  {
   "cell_type": "code",
   "execution_count": null,
   "id": "d2424fbb-1bc8-4e09-a78d-d823a60a30e0",
   "metadata": {},
   "outputs": [],
   "source": []
  },
  {
   "cell_type": "markdown",
   "id": "89886f9a-99ed-4565-88a3-040bcec5a4e1",
   "metadata": {},
   "source": [
    "### Create a program that sorts three numbers in ascending order using conditional statements."
   ]
  },
  {
   "cell_type": "code",
   "execution_count": 2,
   "id": "762372a6-acf9-4071-9704-87299f2730eb",
   "metadata": {},
   "outputs": [
    {
     "name": "stdout",
     "output_type": "stream",
     "text": [
      "Sorted numbers: (1, 2, 3)\n"
     ]
    }
   ],
   "source": [
    "def sort_three_numbers(a, b, c):\n",
    "    # Start with the assumption that a is the smallest\n",
    "    if a > b:\n",
    "        a, b = b, a  # Swap a and b\n",
    "    if a > c:\n",
    "        a, c = c, a  # Swap a and c\n",
    "    if b > c:\n",
    "        b, c = c, b  # Swap b and c\n",
    "\n",
    "    return a, b, c\n",
    "\n",
    "# Test the function\n",
    "num1 = 3\n",
    "num2 = 1\n",
    "num3 = 2\n",
    "\n",
    "sorted_numbers = sort_three_numbers(num1, num2, num3)\n",
    "print(\"Sorted numbers:\", sorted_numbers)\n"
   ]
  },
  {
   "cell_type": "code",
   "execution_count": null,
   "id": "b9ba33f6-a86c-4db5-a3fa-4401c7b4bf7e",
   "metadata": {},
   "outputs": [],
   "source": []
  },
  {
   "cell_type": "markdown",
   "id": "30881f4c-8be2-4cd3-b7f7-934994d5e077",
   "metadata": {},
   "source": [
    "### Build a program that determines the roots of a quartic equation using numerical methods."
   ]
  },
  {
   "cell_type": "code",
   "execution_count": null,
   "id": "0629b033-3d40-4dab-9434-b570707b4948",
   "metadata": {},
   "outputs": [],
   "source": []
  },
  {
   "cell_type": "code",
   "execution_count": null,
   "id": "69a360f9-e3dc-4d8a-8137-a089d91e2330",
   "metadata": {},
   "outputs": [],
   "source": []
  },
  {
   "cell_type": "markdown",
   "id": "9db94213-7027-4142-80cb-3ee739091ed9",
   "metadata": {},
   "source": [
    "### Write a program that calculates the BMI (Body Mass Index) and provides health recommendations based on the user's input."
   ]
  },
  {
   "cell_type": "code",
   "execution_count": 4,
   "id": "e15fa326-1c81-42fb-ad97-414fcb4fd2ea",
   "metadata": {},
   "outputs": [
    {
     "name": "stdin",
     "output_type": "stream",
     "text": [
      "Enter your weight in kilograms:  50\n",
      "Enter your height in meters:  175\n"
     ]
    },
    {
     "ename": "TypeError",
     "evalue": "cal_bmi() takes 1 positional argument but 2 were given",
     "output_type": "error",
     "traceback": [
      "\u001b[0;31m---------------------------------------------------------------------------\u001b[0m",
      "\u001b[0;31mTypeError\u001b[0m                                 Traceback (most recent call last)",
      "Cell \u001b[0;32mIn[4], line 32\u001b[0m\n\u001b[1;32m     29\u001b[0m     \u001b[38;5;28mprint\u001b[39m(\u001b[38;5;124mf\u001b[39m\u001b[38;5;124m\"\u001b[39m\u001b[38;5;124mHealth recommendation: \u001b[39m\u001b[38;5;132;01m{\u001b[39;00mrecommendations\u001b[38;5;132;01m}\u001b[39;00m\u001b[38;5;124m\"\u001b[39m)\n\u001b[1;32m     31\u001b[0m \u001b[38;5;28;01mif\u001b[39;00m \u001b[38;5;18m__name__\u001b[39m \u001b[38;5;241m==\u001b[39m \u001b[38;5;124m\"\u001b[39m\u001b[38;5;124m__main__\u001b[39m\u001b[38;5;124m\"\u001b[39m:\n\u001b[0;32m---> 32\u001b[0m     \u001b[43mmain\u001b[49m\u001b[43m(\u001b[49m\u001b[43m)\u001b[49m\n",
      "Cell \u001b[0;32mIn[4], line 23\u001b[0m, in \u001b[0;36mmain\u001b[0;34m()\u001b[0m\n\u001b[1;32m     20\u001b[0m height \u001b[38;5;241m=\u001b[39m \u001b[38;5;28mfloat\u001b[39m(\u001b[38;5;28minput\u001b[39m(\u001b[38;5;124m\"\u001b[39m\u001b[38;5;124mEnter your height in meters: \u001b[39m\u001b[38;5;124m\"\u001b[39m))\n\u001b[1;32m     22\u001b[0m \u001b[38;5;66;03m# Calculate BMI\u001b[39;00m\n\u001b[0;32m---> 23\u001b[0m bmi \u001b[38;5;241m=\u001b[39m \u001b[43mcal_bmi\u001b[49m\u001b[43m(\u001b[49m\u001b[43mweight\u001b[49m\u001b[43m,\u001b[49m\u001b[43m \u001b[49m\u001b[43mheight\u001b[49m\u001b[43m)\u001b[49m\n\u001b[1;32m     25\u001b[0m \u001b[38;5;66;03m# Get health recommendations\u001b[39;00m\n\u001b[1;32m     26\u001b[0m recommendations \u001b[38;5;241m=\u001b[39m health_recommendations(bmi)\n",
      "\u001b[0;31mTypeError\u001b[0m: cal_bmi() takes 1 positional argument but 2 were given"
     ]
    }
   ],
   "source": [
    "def cal_bmi(bmi):\n",
    "    bmi = weight / (height**2)\n",
    "    return bmi\n",
    "\n",
    "def health_recommendation(bmi):\n",
    "    if bmi > 18.5 :\n",
    "        return \"'Underweight'It's important to eat a balanced diet and consult with a healthcare provider to determine the cause and appropriate treatment.\"\n",
    "    elif 18.5 <= bmi <24.5 :\n",
    "        return \"Normal weight: Keep up the good work! Maintain a balanced diet and regular physical activity.\"\n",
    "    elif 25 <= bmi < 29.9 :\n",
    "        return \"Overweight: Consider a balanced diet and regular physical activity. Consult with a healthcare provider for personalized advice.\"\n",
    "    elif  30 <= bmi < 34.9:\n",
    "        return \"Obesity : It's important to adopt a healthy lifestyle. Seek advice from a healthcare provider.\"\n",
    "    else:\n",
    "        return \"Extreme obesity : Immediate medical intervention is recommended. Consult with a healthcare provider for a tailored treatment plan.\"\n",
    "    \n",
    "def main():\n",
    "    # Get user input\n",
    "    weight = float(input(\"Enter your weight in kilograms: \"))\n",
    "    height = float(input(\"Enter your height in meters: \"))\n",
    "\n",
    "    # Calculate BMI\n",
    "    bmi = cal_bmi(weight, height)\n",
    "\n",
    "    # Get health recommendations\n",
    "    recommendations = health_recommendations(bmi)\n",
    "    \n",
    "    print(f\"Your BMI is: {bmi:.2f}\")\n",
    "    print(f\"Health recommendation: {recommendations}\")\n",
    "\n",
    "if __name__ == \"__main__\":\n",
    "    main()"
   ]
  },
  {
   "cell_type": "code",
   "execution_count": null,
   "id": "6b5791d6-66fc-4d35-a7f1-09d0d33cf098",
   "metadata": {},
   "outputs": [],
   "source": []
  }
 ],
 "metadata": {
  "kernelspec": {
   "display_name": "Python 3 (ipykernel)",
   "language": "python",
   "name": "python3"
  },
  "language_info": {
   "codemirror_mode": {
    "name": "ipython",
    "version": 3
   },
   "file_extension": ".py",
   "mimetype": "text/x-python",
   "name": "python",
   "nbconvert_exporter": "python",
   "pygments_lexer": "ipython3",
   "version": "3.10.8"
  }
 },
 "nbformat": 4,
 "nbformat_minor": 5
}
